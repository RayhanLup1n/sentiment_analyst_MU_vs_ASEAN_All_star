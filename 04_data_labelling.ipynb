{
 "cells": [
  {
   "cell_type": "code",
   "execution_count": 5,
   "id": "21a803b5",
   "metadata": {},
   "outputs": [],
   "source": [
    "import pandas as pd\n",
    "\n",
    "\n",
    "# Load all CSV files that already cleaned\n",
    "news_comments = pd.read_csv('../data/news_comments_clean.csv')\n",
    "youtube_comments = pd.read_csv('../data/youtube_comments_clean.csv')\n",
    "tiktok_comments = pd.read_csv('../data/tiktok_comments_clean.csv')"
   ]
  },
  {
   "cell_type": "code",
   "execution_count": 7,
   "id": "6f3fb5bc",
   "metadata": {},
   "outputs": [
    {
     "name": "stdout",
     "output_type": "stream",
     "text": [
      "✅ File labeling created succesfully!\n"
     ]
    }
   ],
   "source": [
    "# Drop potential duplicate columns (Unnamed, duplicates from previous runs)\n",
    "news_comments = news_comments.loc[:, ~news_comments.columns.str.contains('^Unnamed')]\n",
    "youtube_comments = youtube_comments.loc[:, ~youtube_comments.columns.str.contains('^Unnamed')]\n",
    "tiktok_comments = tiktok_comments.loc[:, ~tiktok_comments.columns.str.contains('^Unnamed')]\n",
    "\n",
    "# Drop Unnamed columns safely\n",
    "news_comments = news_comments.loc[:,~news_comments.columns.duplicated()]\n",
    "youtube_comments = youtube_comments.loc[:,~youtube_comments.columns.duplicated()]\n",
    "tiktok_comments = tiktok_comments.loc[:,~tiktok_comments.columns.duplicated()]\n",
    "\n",
    "# insert a new column 'source' to identify the source of the comments\n",
    "news_comments['source'] = 'news'\n",
    "youtube_comments['source'] = 'youtube'\n",
    "tiktok_comments['source'] = 'tiktok'\n",
    "\n",
    "# if the column 'clean_text' exists, rename it to 'comment'\n",
    "if 'clean_text' in news_comments.columns:\n",
    "    news_comments = news_comments.rename(columns={'clean_text': 'comment'})\n",
    "if 'clean_text' in youtube_comments.columns:\n",
    "    youtube_comments = youtube_comments.rename(columns={'clean_text': 'comment'})\n",
    "if 'clean_text' in tiktok_comments.columns:\n",
    "    tiktok_comments = tiktok_comments.rename(columns={'clean_text': 'comment'})\n",
    "\n",
    "# retrieve only the 'comment' and 'source' columns\n",
    "news_comments = news_comments[['comment', 'source']]\n",
    "youtube_comments = youtube_comments[['comment', 'source']]\n",
    "tiktok_comments = tiktok_comments[['comment', 'source']]\n",
    "\n",
    "# Concatenate all DataFrames into one\n",
    "all_comments = pd.concat([news_comments, youtube_comments, tiktok_comments], ignore_index=True)\n",
    "\n",
    "# Shuffle the DataFrame\n",
    "all_comments = all_comments.sample(frac=1, random_state=42).reset_index(drop=True)\n",
    "\n",
    "# Save the combined DataFrame to a new CSV file\n",
    "all_comments.to_csv('../data/all_comments_for_labeling.csv', index=False)\n",
    "\n",
    "\n",
    "print(\"✅ File labeling created succesfully!\")"
   ]
  }
 ],
 "metadata": {
  "kernelspec": {
   "display_name": "Python 3",
   "language": "python",
   "name": "python3"
  },
  "language_info": {
   "codemirror_mode": {
    "name": "ipython",
    "version": 3
   },
   "file_extension": ".py",
   "mimetype": "text/x-python",
   "name": "python",
   "nbconvert_exporter": "python",
   "pygments_lexer": "ipython3",
   "version": "3.13.4"
  }
 },
 "nbformat": 4,
 "nbformat_minor": 5
}
