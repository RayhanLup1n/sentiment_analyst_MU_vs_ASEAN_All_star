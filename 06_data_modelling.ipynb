{
 "cells": [
  {
   "cell_type": "markdown",
   "id": "17d6da7d",
   "metadata": {},
   "source": [
    "# 1. Load Libraries\n",
    "---"
   ]
  },
  {
   "cell_type": "code",
   "execution_count": 5,
   "id": "e3d819ea",
   "metadata": {},
   "outputs": [
    {
     "data": {
      "text/plain": [
       "'!pip install scikit-learn==1.4.2 imbalanced-learn==0.11.0\\n!pip install pandas numpy matplotlib seaborn scikit-learn nltk\\n!pip install joblib\\n!pip install scipy\\n!pip install pycaret\\n!pip install imbalanced-learn\\n'"
      ]
     },
     "execution_count": 5,
     "metadata": {},
     "output_type": "execute_result"
    }
   ],
   "source": [
    "\"\"\"!pip install scikit-learn==1.4.2 imbalanced-learn==0.11.0\n",
    "!pip install pandas numpy matplotlib seaborn scikit-learn nltk\n",
    "!pip install joblib\n",
    "!pip install scipy\n",
    "!pip install pycaret\n",
    "!pip install imbalanced-learn\n",
    "\"\"\""
   ]
  },
  {
   "cell_type": "code",
   "execution_count": 19,
   "id": "24ee4d2a",
   "metadata": {},
   "outputs": [],
   "source": [
    "# Libraries for data manipulation and visualization\n",
    "import pandas as pd\n",
    "import numpy as np\n",
    "import re\n",
    "import string\n",
    "import pickle\n",
    "\n",
    "import matplotlib.pyplot as plt\n",
    "import seaborn as sns\n",
    "\n",
    "# Libraries for machine learning\n",
    "from nltk.corpus import stopwords\n",
    "from nltk import download\n",
    "from sklearn.model_selection import train_test_split\n",
    "from sklearn.feature_extraction.text import TfidfVectorizer\n",
    "from sklearn.linear_model import LogisticRegression\n",
    "from sklearn.metrics import classification_report, confusion_matrix\n",
    "from sklearn.naive_bayes import MultinomialNB\n",
    "from sklearn.svm import LinearSVC"
   ]
  },
  {
   "cell_type": "code",
   "execution_count": 7,
   "id": "66404d94",
   "metadata": {},
   "outputs": [
    {
     "name": "stderr",
     "output_type": "stream",
     "text": [
      "[nltk_data] Downloading package stopwords to\n",
      "[nltk_data]     C:\\Users\\Razy31\\AppData\\Roaming\\nltk_data...\n",
      "[nltk_data]   Package stopwords is already up-to-date!\n"
     ]
    }
   ],
   "source": [
    "download('stopwords')\n",
    "stop_words = set(stopwords.words('indonesian'))"
   ]
  },
  {
   "cell_type": "markdown",
   "id": "6ffb8619",
   "metadata": {},
   "source": [
    "# 2. Load Data\n",
    "---"
   ]
  },
  {
   "cell_type": "code",
   "execution_count": 8,
   "id": "0e35c710",
   "metadata": {},
   "outputs": [
    {
     "data": {
      "application/vnd.microsoft.datawrangler.viewer.v0+json": {
       "columns": [
        {
         "name": "index",
         "rawType": "int64",
         "type": "integer"
        },
        {
         "name": "comments",
         "rawType": "object",
         "type": "string"
        },
        {
         "name": "source",
         "rawType": "object",
         "type": "string"
        },
        {
         "name": "label",
         "rawType": "object",
         "type": "string"
        }
       ],
       "ref": "03f5398c-5172-4254-aeaa-3918bd93ac93",
       "rows": [
        [
         "0",
         "fokus piala presiden kekny",
         "tiktok",
         "negative"
        ],
        [
         "1",
         "emyu cocoknya main di liga aja dah",
         "tiktok",
         "negative"
        ],
        [
         "2",
         "sudah bisa di pastikan degradasi gk sih di musim depan",
         "tiktok",
         "negative"
        ],
        [
         "3",
         "ya puasa gelar",
         "tiktok",
         "negative"
        ],
        [
         "4",
         "happy banget cuma di keberuntungan datang terus",
         "youtube",
         "positive"
        ]
       ],
       "shape": {
        "columns": 3,
        "rows": 5
       }
      },
      "text/html": [
       "<div>\n",
       "<style scoped>\n",
       "    .dataframe tbody tr th:only-of-type {\n",
       "        vertical-align: middle;\n",
       "    }\n",
       "\n",
       "    .dataframe tbody tr th {\n",
       "        vertical-align: top;\n",
       "    }\n",
       "\n",
       "    .dataframe thead th {\n",
       "        text-align: right;\n",
       "    }\n",
       "</style>\n",
       "<table border=\"1\" class=\"dataframe\">\n",
       "  <thead>\n",
       "    <tr style=\"text-align: right;\">\n",
       "      <th></th>\n",
       "      <th>comments</th>\n",
       "      <th>source</th>\n",
       "      <th>label</th>\n",
       "    </tr>\n",
       "  </thead>\n",
       "  <tbody>\n",
       "    <tr>\n",
       "      <th>0</th>\n",
       "      <td>fokus piala presiden kekny</td>\n",
       "      <td>tiktok</td>\n",
       "      <td>negative</td>\n",
       "    </tr>\n",
       "    <tr>\n",
       "      <th>1</th>\n",
       "      <td>emyu cocoknya main di liga aja dah</td>\n",
       "      <td>tiktok</td>\n",
       "      <td>negative</td>\n",
       "    </tr>\n",
       "    <tr>\n",
       "      <th>2</th>\n",
       "      <td>sudah bisa di pastikan degradasi gk sih di mus...</td>\n",
       "      <td>tiktok</td>\n",
       "      <td>negative</td>\n",
       "    </tr>\n",
       "    <tr>\n",
       "      <th>3</th>\n",
       "      <td>ya puasa gelar</td>\n",
       "      <td>tiktok</td>\n",
       "      <td>negative</td>\n",
       "    </tr>\n",
       "    <tr>\n",
       "      <th>4</th>\n",
       "      <td>happy banget cuma di keberuntungan datang terus</td>\n",
       "      <td>youtube</td>\n",
       "      <td>positive</td>\n",
       "    </tr>\n",
       "  </tbody>\n",
       "</table>\n",
       "</div>"
      ],
      "text/plain": [
       "                                            comments   source     label\n",
       "0                         fokus piala presiden kekny   tiktok  negative\n",
       "1                 emyu cocoknya main di liga aja dah   tiktok  negative\n",
       "2  sudah bisa di pastikan degradasi gk sih di mus...   tiktok  negative\n",
       "3                                     ya puasa gelar   tiktok  negative\n",
       "4    happy banget cuma di keberuntungan datang terus  youtube  positive"
      ]
     },
     "execution_count": 8,
     "metadata": {},
     "output_type": "execute_result"
    }
   ],
   "source": [
    "df = pd.read_csv('all_comments_for_labeling_cleaned.csv', delimiter=';', encoding='utf-8')\n",
    "df.head()"
   ]
  },
  {
   "cell_type": "code",
   "execution_count": 9,
   "id": "e159d63d",
   "metadata": {},
   "outputs": [
    {
     "data": {
      "application/vnd.microsoft.datawrangler.viewer.v0+json": {
       "columns": [
        {
         "name": "index",
         "rawType": "int64",
         "type": "integer"
        },
        {
         "name": "comments",
         "rawType": "object",
         "type": "string"
        },
        {
         "name": "label",
         "rawType": "object",
         "type": "string"
        }
       ],
       "ref": "7cec7384-8daf-4f72-9a75-b711b5962a32",
       "rows": [
        [
         "0",
         "fokus piala presiden kekny",
         "negative"
        ],
        [
         "1",
         "emyu cocoknya main di liga aja dah",
         "negative"
        ],
        [
         "2",
         "sudah bisa di pastikan degradasi gk sih di musim depan",
         "negative"
        ],
        [
         "3",
         "ya puasa gelar",
         "negative"
        ],
        [
         "4",
         "happy banget cuma di keberuntungan datang terus",
         "positive"
        ]
       ],
       "shape": {
        "columns": 2,
        "rows": 5
       }
      },
      "text/html": [
       "<div>\n",
       "<style scoped>\n",
       "    .dataframe tbody tr th:only-of-type {\n",
       "        vertical-align: middle;\n",
       "    }\n",
       "\n",
       "    .dataframe tbody tr th {\n",
       "        vertical-align: top;\n",
       "    }\n",
       "\n",
       "    .dataframe thead th {\n",
       "        text-align: right;\n",
       "    }\n",
       "</style>\n",
       "<table border=\"1\" class=\"dataframe\">\n",
       "  <thead>\n",
       "    <tr style=\"text-align: right;\">\n",
       "      <th></th>\n",
       "      <th>comments</th>\n",
       "      <th>label</th>\n",
       "    </tr>\n",
       "  </thead>\n",
       "  <tbody>\n",
       "    <tr>\n",
       "      <th>0</th>\n",
       "      <td>fokus piala presiden kekny</td>\n",
       "      <td>negative</td>\n",
       "    </tr>\n",
       "    <tr>\n",
       "      <th>1</th>\n",
       "      <td>emyu cocoknya main di liga aja dah</td>\n",
       "      <td>negative</td>\n",
       "    </tr>\n",
       "    <tr>\n",
       "      <th>2</th>\n",
       "      <td>sudah bisa di pastikan degradasi gk sih di mus...</td>\n",
       "      <td>negative</td>\n",
       "    </tr>\n",
       "    <tr>\n",
       "      <th>3</th>\n",
       "      <td>ya puasa gelar</td>\n",
       "      <td>negative</td>\n",
       "    </tr>\n",
       "    <tr>\n",
       "      <th>4</th>\n",
       "      <td>happy banget cuma di keberuntungan datang terus</td>\n",
       "      <td>positive</td>\n",
       "    </tr>\n",
       "  </tbody>\n",
       "</table>\n",
       "</div>"
      ],
      "text/plain": [
       "                                            comments     label\n",
       "0                         fokus piala presiden kekny  negative\n",
       "1                 emyu cocoknya main di liga aja dah  negative\n",
       "2  sudah bisa di pastikan degradasi gk sih di mus...  negative\n",
       "3                                     ya puasa gelar  negative\n",
       "4    happy banget cuma di keberuntungan datang terus  positive"
      ]
     },
     "execution_count": 9,
     "metadata": {},
     "output_type": "execute_result"
    }
   ],
   "source": [
    "new_df = df[['comments', 'label']].copy()\n",
    "new_df.head()"
   ]
  },
  {
   "cell_type": "code",
   "execution_count": 10,
   "id": "e73db8db",
   "metadata": {},
   "outputs": [
    {
     "name": "stdout",
     "output_type": "stream",
     "text": [
      "<class 'pandas.core.frame.DataFrame'>\n",
      "RangeIndex: 1867 entries, 0 to 1866\n",
      "Data columns (total 2 columns):\n",
      " #   Column    Non-Null Count  Dtype \n",
      "---  ------    --------------  ----- \n",
      " 0   comments  1867 non-null   object\n",
      " 1   label     1867 non-null   object\n",
      "dtypes: object(2)\n",
      "memory usage: 29.3+ KB\n"
     ]
    }
   ],
   "source": [
    "new_df.info()"
   ]
  },
  {
   "cell_type": "code",
   "execution_count": 11,
   "id": "aa5851a4",
   "metadata": {},
   "outputs": [
    {
     "data": {
      "application/vnd.microsoft.datawrangler.viewer.v0+json": {
       "columns": [
        {
         "name": "index",
         "rawType": "object",
         "type": "string"
        },
        {
         "name": "comments",
         "rawType": "object",
         "type": "unknown"
        },
        {
         "name": "label",
         "rawType": "object",
         "type": "unknown"
        }
       ],
       "ref": "50ddaf95-5953-4fa2-b74e-26fbc9171e31",
       "rows": [
        [
         "count",
         "1867",
         "1867"
        ],
        [
         "unique",
         "1784",
         "3"
        ],
        [
         "top",
         "sebelum ribuan",
         "negative"
        ],
        [
         "freq",
         "15",
         "1243"
        ]
       ],
       "shape": {
        "columns": 2,
        "rows": 4
       }
      },
      "text/html": [
       "<div>\n",
       "<style scoped>\n",
       "    .dataframe tbody tr th:only-of-type {\n",
       "        vertical-align: middle;\n",
       "    }\n",
       "\n",
       "    .dataframe tbody tr th {\n",
       "        vertical-align: top;\n",
       "    }\n",
       "\n",
       "    .dataframe thead th {\n",
       "        text-align: right;\n",
       "    }\n",
       "</style>\n",
       "<table border=\"1\" class=\"dataframe\">\n",
       "  <thead>\n",
       "    <tr style=\"text-align: right;\">\n",
       "      <th></th>\n",
       "      <th>comments</th>\n",
       "      <th>label</th>\n",
       "    </tr>\n",
       "  </thead>\n",
       "  <tbody>\n",
       "    <tr>\n",
       "      <th>count</th>\n",
       "      <td>1867</td>\n",
       "      <td>1867</td>\n",
       "    </tr>\n",
       "    <tr>\n",
       "      <th>unique</th>\n",
       "      <td>1784</td>\n",
       "      <td>3</td>\n",
       "    </tr>\n",
       "    <tr>\n",
       "      <th>top</th>\n",
       "      <td>sebelum ribuan</td>\n",
       "      <td>negative</td>\n",
       "    </tr>\n",
       "    <tr>\n",
       "      <th>freq</th>\n",
       "      <td>15</td>\n",
       "      <td>1243</td>\n",
       "    </tr>\n",
       "  </tbody>\n",
       "</table>\n",
       "</div>"
      ],
      "text/plain": [
       "              comments     label\n",
       "count             1867      1867\n",
       "unique            1784         3\n",
       "top     sebelum ribuan  negative\n",
       "freq                15      1243"
      ]
     },
     "execution_count": 11,
     "metadata": {},
     "output_type": "execute_result"
    }
   ],
   "source": [
    "new_df.describe(include='all')"
   ]
  },
  {
   "cell_type": "code",
   "execution_count": 12,
   "id": "0c441992",
   "metadata": {},
   "outputs": [
    {
     "data": {
      "application/vnd.microsoft.datawrangler.viewer.v0+json": {
       "columns": [
        {
         "name": "label",
         "rawType": "object",
         "type": "string"
        },
        {
         "name": "count",
         "rawType": "int64",
         "type": "integer"
        }
       ],
       "ref": "e00a9714-eb16-4aec-adca-363070ff374e",
       "rows": [
        [
         "negative",
         "1243"
        ],
        [
         "neutral",
         "446"
        ],
        [
         "positive",
         "178"
        ]
       ],
       "shape": {
        "columns": 1,
        "rows": 3
       }
      },
      "text/plain": [
       "label\n",
       "negative    1243\n",
       "neutral      446\n",
       "positive     178\n",
       "Name: count, dtype: int64"
      ]
     },
     "execution_count": 12,
     "metadata": {},
     "output_type": "execute_result"
    }
   ],
   "source": [
    "new_df['label'].value_counts()"
   ]
  },
  {
   "cell_type": "markdown",
   "id": "c8dd6308",
   "metadata": {},
   "source": [
    "# 3. Text Cleaning\n",
    "---"
   ]
  },
  {
   "cell_type": "code",
   "execution_count": 13,
   "id": "df59d79d",
   "metadata": {},
   "outputs": [
    {
     "data": {
      "application/vnd.microsoft.datawrangler.viewer.v0+json": {
       "columns": [
        {
         "name": "index",
         "rawType": "int64",
         "type": "integer"
        },
        {
         "name": "comments",
         "rawType": "object",
         "type": "string"
        },
        {
         "name": "label",
         "rawType": "object",
         "type": "string"
        },
        {
         "name": "cleaned_comments",
         "rawType": "object",
         "type": "string"
        }
       ],
       "ref": "a287331d-00d7-4169-9314-1d272e367490",
       "rows": [
        [
         "0",
         "fokus piala presiden kekny",
         "negative",
         "fokus piala presiden kekny"
        ],
        [
         "1",
         "emyu cocoknya main di liga aja dah",
         "negative",
         "emyu cocoknya main di liga aja dah"
        ],
        [
         "2",
         "sudah bisa di pastikan degradasi gk sih di musim depan",
         "negative",
         "sudah bisa di pastikan degradasi gk sih di musim depan"
        ],
        [
         "3",
         "ya puasa gelar",
         "negative",
         "ya puasa gelar"
        ],
        [
         "4",
         "happy banget cuma di keberuntungan datang terus",
         "positive",
         "happy banget cuma di keberuntungan datang terus"
        ]
       ],
       "shape": {
        "columns": 3,
        "rows": 5
       }
      },
      "text/html": [
       "<div>\n",
       "<style scoped>\n",
       "    .dataframe tbody tr th:only-of-type {\n",
       "        vertical-align: middle;\n",
       "    }\n",
       "\n",
       "    .dataframe tbody tr th {\n",
       "        vertical-align: top;\n",
       "    }\n",
       "\n",
       "    .dataframe thead th {\n",
       "        text-align: right;\n",
       "    }\n",
       "</style>\n",
       "<table border=\"1\" class=\"dataframe\">\n",
       "  <thead>\n",
       "    <tr style=\"text-align: right;\">\n",
       "      <th></th>\n",
       "      <th>comments</th>\n",
       "      <th>label</th>\n",
       "      <th>cleaned_comments</th>\n",
       "    </tr>\n",
       "  </thead>\n",
       "  <tbody>\n",
       "    <tr>\n",
       "      <th>0</th>\n",
       "      <td>fokus piala presiden kekny</td>\n",
       "      <td>negative</td>\n",
       "      <td>fokus piala presiden kekny</td>\n",
       "    </tr>\n",
       "    <tr>\n",
       "      <th>1</th>\n",
       "      <td>emyu cocoknya main di liga aja dah</td>\n",
       "      <td>negative</td>\n",
       "      <td>emyu cocoknya main di liga aja dah</td>\n",
       "    </tr>\n",
       "    <tr>\n",
       "      <th>2</th>\n",
       "      <td>sudah bisa di pastikan degradasi gk sih di mus...</td>\n",
       "      <td>negative</td>\n",
       "      <td>sudah bisa di pastikan degradasi gk sih di mus...</td>\n",
       "    </tr>\n",
       "    <tr>\n",
       "      <th>3</th>\n",
       "      <td>ya puasa gelar</td>\n",
       "      <td>negative</td>\n",
       "      <td>ya puasa gelar</td>\n",
       "    </tr>\n",
       "    <tr>\n",
       "      <th>4</th>\n",
       "      <td>happy banget cuma di keberuntungan datang terus</td>\n",
       "      <td>positive</td>\n",
       "      <td>happy banget cuma di keberuntungan datang terus</td>\n",
       "    </tr>\n",
       "  </tbody>\n",
       "</table>\n",
       "</div>"
      ],
      "text/plain": [
       "                                            comments     label  \\\n",
       "0                         fokus piala presiden kekny  negative   \n",
       "1                 emyu cocoknya main di liga aja dah  negative   \n",
       "2  sudah bisa di pastikan degradasi gk sih di mus...  negative   \n",
       "3                                     ya puasa gelar  negative   \n",
       "4    happy banget cuma di keberuntungan datang terus  positive   \n",
       "\n",
       "                                    cleaned_comments  \n",
       "0                         fokus piala presiden kekny  \n",
       "1                 emyu cocoknya main di liga aja dah  \n",
       "2  sudah bisa di pastikan degradasi gk sih di mus...  \n",
       "3                                     ya puasa gelar  \n",
       "4    happy banget cuma di keberuntungan datang terus  "
      ]
     },
     "execution_count": 13,
     "metadata": {},
     "output_type": "execute_result"
    }
   ],
   "source": [
    "def clean_text(text):\n",
    "    text = str(text).lower()\n",
    "    text = re.sub(r\"http\\S+|www.\\S+\", \"\", text)  # Remove URLs\n",
    "    text = re.sub(r\"@\\w+|#\\w+\", \"\", text)        # Remove mentions and hashtags\n",
    "    text = re.sub(r\"\\d+\", \"\", text)              # Remove numbers\n",
    "    text = re.sub(rf\"[{string.punctuation}]\", \" \", text)  # Remove punctuation\n",
    "    text = re.sub(r\"\\s+\", \" \", text).strip()     # Remove extra spaces\n",
    "    return text\n",
    "\n",
    "new_df['cleaned_comments'] = new_df['comments'].apply(clean_text)\n",
    "new_df.head()"
   ]
  },
  {
   "cell_type": "markdown",
   "id": "16f2a469",
   "metadata": {},
   "source": [
    "# 4. Stopword Removal\n",
    "---"
   ]
  },
  {
   "cell_type": "code",
   "execution_count": 14,
   "id": "77347a49",
   "metadata": {},
   "outputs": [
    {
     "data": {
      "application/vnd.microsoft.datawrangler.viewer.v0+json": {
       "columns": [
        {
         "name": "index",
         "rawType": "int64",
         "type": "integer"
        },
        {
         "name": "comments",
         "rawType": "object",
         "type": "string"
        },
        {
         "name": "label",
         "rawType": "object",
         "type": "string"
        },
        {
         "name": "cleaned_comments",
         "rawType": "object",
         "type": "string"
        }
       ],
       "ref": "70efb972-d22c-4aef-b80e-9ee54efae6cb",
       "rows": [
        [
         "0",
         "fokus piala presiden kekny",
         "negative",
         "fokus piala presiden kekny"
        ],
        [
         "1",
         "emyu cocoknya main di liga aja dah",
         "negative",
         "emyu cocoknya main liga aja dah"
        ],
        [
         "2",
         "sudah bisa di pastikan degradasi gk sih di musim depan",
         "negative",
         "pastikan degradasi gk sih musim"
        ],
        [
         "3",
         "ya puasa gelar",
         "negative",
         "ya puasa gelar"
        ],
        [
         "4",
         "happy banget cuma di keberuntungan datang terus",
         "positive",
         "happy banget keberuntungan"
        ]
       ],
       "shape": {
        "columns": 3,
        "rows": 5
       }
      },
      "text/html": [
       "<div>\n",
       "<style scoped>\n",
       "    .dataframe tbody tr th:only-of-type {\n",
       "        vertical-align: middle;\n",
       "    }\n",
       "\n",
       "    .dataframe tbody tr th {\n",
       "        vertical-align: top;\n",
       "    }\n",
       "\n",
       "    .dataframe thead th {\n",
       "        text-align: right;\n",
       "    }\n",
       "</style>\n",
       "<table border=\"1\" class=\"dataframe\">\n",
       "  <thead>\n",
       "    <tr style=\"text-align: right;\">\n",
       "      <th></th>\n",
       "      <th>comments</th>\n",
       "      <th>label</th>\n",
       "      <th>cleaned_comments</th>\n",
       "    </tr>\n",
       "  </thead>\n",
       "  <tbody>\n",
       "    <tr>\n",
       "      <th>0</th>\n",
       "      <td>fokus piala presiden kekny</td>\n",
       "      <td>negative</td>\n",
       "      <td>fokus piala presiden kekny</td>\n",
       "    </tr>\n",
       "    <tr>\n",
       "      <th>1</th>\n",
       "      <td>emyu cocoknya main di liga aja dah</td>\n",
       "      <td>negative</td>\n",
       "      <td>emyu cocoknya main liga aja dah</td>\n",
       "    </tr>\n",
       "    <tr>\n",
       "      <th>2</th>\n",
       "      <td>sudah bisa di pastikan degradasi gk sih di mus...</td>\n",
       "      <td>negative</td>\n",
       "      <td>pastikan degradasi gk sih musim</td>\n",
       "    </tr>\n",
       "    <tr>\n",
       "      <th>3</th>\n",
       "      <td>ya puasa gelar</td>\n",
       "      <td>negative</td>\n",
       "      <td>ya puasa gelar</td>\n",
       "    </tr>\n",
       "    <tr>\n",
       "      <th>4</th>\n",
       "      <td>happy banget cuma di keberuntungan datang terus</td>\n",
       "      <td>positive</td>\n",
       "      <td>happy banget keberuntungan</td>\n",
       "    </tr>\n",
       "  </tbody>\n",
       "</table>\n",
       "</div>"
      ],
      "text/plain": [
       "                                            comments     label  \\\n",
       "0                         fokus piala presiden kekny  negative   \n",
       "1                 emyu cocoknya main di liga aja dah  negative   \n",
       "2  sudah bisa di pastikan degradasi gk sih di mus...  negative   \n",
       "3                                     ya puasa gelar  negative   \n",
       "4    happy banget cuma di keberuntungan datang terus  positive   \n",
       "\n",
       "                  cleaned_comments  \n",
       "0       fokus piala presiden kekny  \n",
       "1  emyu cocoknya main liga aja dah  \n",
       "2  pastikan degradasi gk sih musim  \n",
       "3                   ya puasa gelar  \n",
       "4       happy banget keberuntungan  "
      ]
     },
     "execution_count": 14,
     "metadata": {},
     "output_type": "execute_result"
    }
   ],
   "source": [
    "def remove_stopwords(text):\n",
    "    tokens = text.split()\n",
    "    filtered = [word for word in tokens if word not in stop_words]\n",
    "    return \" \".join(filtered)\n",
    "\n",
    "new_df['cleaned_comments'] = new_df['cleaned_comments'].apply(remove_stopwords)\n",
    "new_df.head()"
   ]
  },
  {
   "cell_type": "markdown",
   "id": "6fb5ce40",
   "metadata": {},
   "source": [
    "# 5. Feature Engineering (TF-IDF)\n",
    "---"
   ]
  },
  {
   "cell_type": "code",
   "execution_count": 16,
   "id": "6d1c1151",
   "metadata": {},
   "outputs": [],
   "source": [
    "vectorizer = TfidfVectorizer(ngram_range=(1, 2), max_features=5000)\n",
    "X = vectorizer.fit_transform(new_df['cleaned_comments'])\n",
    "y = new_df['label']"
   ]
  },
  {
   "cell_type": "markdown",
   "id": "c6aeebdf",
   "metadata": {},
   "source": [
    "# 6. Train-Test Split\n",
    "---"
   ]
  },
  {
   "cell_type": "code",
   "execution_count": 17,
   "id": "23d7e87d",
   "metadata": {},
   "outputs": [],
   "source": [
    "X_train, X_test, y_train, y_test = train_test_split(X, y, stratify=y, test_size=0.2, random_state=42)"
   ]
  },
  {
   "cell_type": "markdown",
   "id": "5d2d2193",
   "metadata": {},
   "source": [
    "# 7. Research Model & Model Evaluate\n",
    "---"
   ]
  },
  {
   "cell_type": "code",
   "execution_count": 20,
   "id": "d20203ce",
   "metadata": {},
   "outputs": [],
   "source": [
    "models = {\n",
    "    \"Logistic Regression\": LogisticRegression(max_iter=1000),\n",
    "    \"Multinomial NB\": MultinomialNB(),\n",
    "    \"Linear SVM\": LinearSVC()\n",
    "}"
   ]
  },
  {
   "cell_type": "code",
   "execution_count": 23,
   "id": "7abdd10f",
   "metadata": {},
   "outputs": [
    {
     "name": "stdout",
     "output_type": "stream",
     "text": [
      "\n",
      "Model: Logistic Regression\n",
      "              precision    recall  f1-score   support\n",
      "\n",
      "    negative       0.71      0.98      0.83       249\n",
      "     neutral       0.79      0.26      0.39        89\n",
      "    positive       1.00      0.06      0.11        36\n",
      "\n",
      "    accuracy                           0.72       374\n",
      "   macro avg       0.84      0.43      0.44       374\n",
      "weighted avg       0.76      0.72      0.65       374\n",
      "\n"
     ]
    },
    {
     "data": {
      "image/png": "[encoded data removed]",
      "text/plain": [
       "<Figure size 640x480 with 2 Axes>"
      ]
     },
     "metadata": {},
     "output_type": "display_data"
    },
    {
     "name": "stdout",
     "output_type": "stream",
     "text": [
      "\n",
      "Model: Multinomial NB\n",
      "              precision    recall  f1-score   support\n",
      "\n",
      "    negative       0.69      0.99      0.82       249\n",
      "     neutral       0.80      0.18      0.29        89\n",
      "    positive       0.00      0.00      0.00        36\n",
      "\n",
      "    accuracy                           0.70       374\n",
      "   macro avg       0.50      0.39      0.37       374\n",
      "weighted avg       0.65      0.70      0.61       374\n",
      "\n"
     ]
    },
    {
     "name": "stderr",
     "output_type": "stream",
     "text": [
      "c:\\Users\\Razy31\\AppData\\Local\\Programs\\Python\\Python311\\Lib\\site-packages\\sklearn\\metrics\\_classification.py:1509: UndefinedMetricWarning: Precision is ill-defined and being set to 0.0 in labels with no predicted samples. Use `zero_division` parameter to control this behavior.\n",
      "  _warn_prf(average, modifier, f\"{metric.capitalize()} is\", len(result))\n",
      "c:\\Users\\Razy31\\AppData\\Local\\Programs\\Python\\Python311\\Lib\\site-packages\\sklearn\\metrics\\_classification.py:1509: UndefinedMetricWarning: Precision is ill-defined and being set to 0.0 in labels with no predicted samples. Use `zero_division` parameter to control this behavior.\n",
      "  _warn_prf(average, modifier, f\"{metric.capitalize()} is\", len(result))\n",
      "c:\\Users\\Razy31\\AppData\\Local\\Programs\\Python\\Python311\\Lib\\site-packages\\sklearn\\metrics\\_classification.py:1509: UndefinedMetricWarning: Precision is ill-defined and being set to 0.0 in labels with no predicted samples. Use `zero_division` parameter to control this behavior.\n",
      "  _warn_prf(average, modifier, f\"{metric.capitalize()} is\", len(result))\n"
     ]
    },
    {
     "data": {
      "image/png": "[encoded data removed]",
      "text/plain": [
       "<Figure size 640x480 with 2 Axes>"
      ]
     },
     "metadata": {},
     "output_type": "display_data"
    },
    {
     "name": "stdout",
     "output_type": "stream",
     "text": [
      "\n",
      "Model: Linear SVM\n",
      "              precision    recall  f1-score   support\n",
      "\n",
      "    negative       0.77      0.93      0.84       249\n",
      "     neutral       0.65      0.40      0.50        89\n",
      "    positive       0.58      0.31      0.40        36\n",
      "\n",
      "    accuracy                           0.74       374\n",
      "   macro avg       0.67      0.55      0.58       374\n",
      "weighted avg       0.72      0.74      0.72       374\n",
      "\n"
     ]
    },
    {
     "name": "stderr",
     "output_type": "stream",
     "text": [
      "c:\\Users\\Razy31\\AppData\\Local\\Programs\\Python\\Python311\\Lib\\site-packages\\sklearn\\svm\\_classes.py:31: FutureWarning: The default value of `dual` will change from `True` to `'auto'` in 1.5. Set the value of `dual` explicitly to suppress the warning.\n",
      "  warnings.warn(\n"
     ]
    },
    {
     "data": {
      "image/png": "[encoded data removed]",
      "text/plain": [
       "<Figure size 640x480 with 2 Axes>"
      ]
     },
     "metadata": {},
     "output_type": "display_data"
    }
   ],
   "source": [
    "for name, model in models.items():\n",
    "    print(f\"\\nModel: {name}\")\n",
    "    model.fit(X_train, y_train)\n",
    "    y_pred = model.predict(X_test)\n",
    "\n",
    "    print(classification_report(y_test, y_pred))\n",
    "    cm = confusion_matrix(y_test, y_pred, labels=model.classes_)\n",
    "\n",
    "    sns.heatmap(cm, annot=True, fmt=\"d\", xticklabels=model.classes_, yticklabels=model.classes_, cmap=\"Blues\")\n",
    "    plt.title(f\"Confusion Matrix - {name}\")\n",
    "    plt.xlabel(\"Predicted\")\n",
    "    plt.ylabel(\"Actual\")\n",
    "    plt.show()"
   ]
  },
  {
   "cell_type": "markdown",
   "id": "17c1e795",
   "metadata": {},
   "source": [
    "Hasil pelatihan menunjukkan performa yang kurang baik karena adanya ketidak setaraan antara pembagian label dimana label negative terlampau terlalu tinggi dibandingkan label postif ataupun negatif sehingga harus ada penyesuaian. Sekarang kita coba terlebih dahulu menggunakan Resampling dengan bantuan libraries imblearn.over_sampling"
   ]
  },
  {
   "cell_type": "code",
   "execution_count": 24,
   "id": "765ae712",
   "metadata": {},
   "outputs": [],
   "source": [
    "from imblearn.over_sampling import RandomOverSampler\n",
    "\n",
    "ros = RandomOverSampler(random_state=42)\n",
    "X_res, y_res = ros.fit_resample(X_train, y_train)"
   ]
  },
  {
   "cell_type": "code",
   "execution_count": 25,
   "id": "f9657def",
   "metadata": {},
   "outputs": [
    {
     "name": "stdout",
     "output_type": "stream",
     "text": [
      "==================================================\n",
      "Model: Logistic Regression\n",
      "              precision    recall  f1-score   support\n",
      "\n",
      "    negative       0.86      0.84      0.85       249\n",
      "     neutral       0.62      0.69      0.65        89\n",
      "    positive       0.38      0.36      0.37        36\n",
      "\n",
      "    accuracy                           0.76       374\n",
      "   macro avg       0.62      0.63      0.63       374\n",
      "weighted avg       0.76      0.76      0.76       374\n",
      "\n"
     ]
    },
    {
     "data": {
      "image/png": "[encoded data removed]",
      "text/plain": [
       "<Figure size 640x480 with 2 Axes>"
      ]
     },
     "metadata": {},
     "output_type": "display_data"
    },
    {
     "name": "stdout",
     "output_type": "stream",
     "text": [
      "==================================================\n",
      "Model: Multinomial NB\n",
      "              precision    recall  f1-score   support\n",
      "\n",
      "    negative       0.83      0.71      0.76       249\n",
      "     neutral       0.54      0.51      0.52        89\n",
      "    positive       0.24      0.53      0.33        36\n",
      "\n",
      "    accuracy                           0.64       374\n",
      "   macro avg       0.54      0.58      0.54       374\n",
      "weighted avg       0.70      0.64      0.66       374\n",
      "\n"
     ]
    },
    {
     "data": {
      "image/png": "[encoded data removed]",
      "text/plain": [
       "<Figure size 640x480 with 2 Axes>"
      ]
     },
     "metadata": {},
     "output_type": "display_data"
    },
    {
     "name": "stdout",
     "output_type": "stream",
     "text": [
      "==================================================\n",
      "Model: Linear SVM\n",
      "              precision    recall  f1-score   support\n",
      "\n",
      "    negative       0.86      0.84      0.85       249\n",
      "     neutral       0.60      0.66      0.63        89\n",
      "    positive       0.42      0.36      0.39        36\n",
      "\n",
      "    accuracy                           0.75       374\n",
      "   macro avg       0.63      0.62      0.62       374\n",
      "weighted avg       0.75      0.75      0.75       374\n",
      "\n"
     ]
    },
    {
     "name": "stderr",
     "output_type": "stream",
     "text": [
      "c:\\Users\\Razy31\\AppData\\Local\\Programs\\Python\\Python311\\Lib\\site-packages\\sklearn\\svm\\_classes.py:31: FutureWarning: The default value of `dual` will change from `True` to `'auto'` in 1.5. Set the value of `dual` explicitly to suppress the warning.\n",
      "  warnings.warn(\n"
     ]
    },
    {
     "data": {
      "image/png": "[encoded data removed]",
      "text/plain": [
       "<Figure size 640x480 with 2 Axes>"
      ]
     },
     "metadata": {},
     "output_type": "display_data"
    }
   ],
   "source": [
    "balanced_models = {\n",
    "    \"Logistic Regression\": LogisticRegression(max_iter=1000),\n",
    "    \"Multinomial NB\": MultinomialNB(),\n",
    "    \"Linear SVM\": LinearSVC()\n",
    "}\n",
    "\n",
    "# Latih dan evaluasi masing-masing model\n",
    "for name, model in balanced_models.items():\n",
    "    print(\"=\"*50)\n",
    "    print(f\"Model: {name}\")\n",
    "\n",
    "    # Latih dengan data hasil oversampling\n",
    "    model.fit(X_res, y_res)\n",
    "\n",
    "    # Prediksi pada test set asli (bukan hasil oversampling)\n",
    "    y_pred = model.predict(X_test)\n",
    "\n",
    "    # Laporan klasifikasi\n",
    "    print(classification_report(y_test, y_pred))\n",
    "\n",
    "    # Confusion matrix\n",
    "    cm = confusion_matrix(y_test, y_pred, labels=model.classes_)\n",
    "    sns.heatmap(cm, annot=True, fmt=\"d\", cmap=\"Blues\",\n",
    "                xticklabels=model.classes_,\n",
    "                yticklabels=model.classes_)\n",
    "    plt.title(f\"Confusion Matrix - {name}\")\n",
    "    plt.xlabel(\"Predicted\")\n",
    "    plt.ylabel(\"Actual\")\n",
    "    plt.show()\n"
   ]
  },
  {
   "cell_type": "code",
   "execution_count": 26,
   "id": "6db8fc9f",
   "metadata": {},
   "outputs": [
    {
     "name": "stdout",
     "output_type": "stream",
     "text": [
      "============================================================\n",
      "Model: Logistic Regression (class_weight)\n",
      "              precision    recall  f1-score   support\n",
      "\n",
      "    negative       0.87      0.80      0.83       249\n",
      "     neutral       0.58      0.70      0.63        89\n",
      "    positive       0.33      0.36      0.35        36\n",
      "\n",
      "    accuracy                           0.73       374\n",
      "   macro avg       0.60      0.62      0.60       374\n",
      "weighted avg       0.75      0.73      0.74       374\n",
      "\n"
     ]
    },
    {
     "data": {
      "image/png": "[encoded data removed]",
      "text/plain": [
       "<Figure size 640x480 with 2 Axes>"
      ]
     },
     "metadata": {},
     "output_type": "display_data"
    },
    {
     "name": "stdout",
     "output_type": "stream",
     "text": [
      "============================================================\n",
      "Model: Linear SVM (class_weight)\n",
      "              precision    recall  f1-score   support\n",
      "\n",
      "    negative       0.85      0.89      0.87       249\n",
      "     neutral       0.64      0.64      0.64        89\n",
      "    positive       0.46      0.33      0.39        36\n",
      "\n",
      "    accuracy                           0.78       374\n",
      "   macro avg       0.65      0.62      0.63       374\n",
      "weighted avg       0.76      0.78      0.77       374\n",
      "\n"
     ]
    },
    {
     "name": "stderr",
     "output_type": "stream",
     "text": [
      "c:\\Users\\Razy31\\AppData\\Local\\Programs\\Python\\Python311\\Lib\\site-packages\\sklearn\\svm\\_classes.py:31: FutureWarning: The default value of `dual` will change from `True` to `'auto'` in 1.5. Set the value of `dual` explicitly to suppress the warning.\n",
      "  warnings.warn(\n"
     ]
    },
    {
     "data": {
      "image/png": "[encoded data removed]",
      "text/plain": [
       "<Figure size 640x480 with 2 Axes>"
      ]
     },
     "metadata": {},
     "output_type": "display_data"
    }
   ],
   "source": [
    "# Daftar model dengan class_weight\n",
    "weighted_models = {\n",
    "    \"Logistic Regression (class_weight)\": LogisticRegression(class_weight='balanced', max_iter=1000),\n",
    "    \"Linear SVM (class_weight)\": LinearSVC(class_weight='balanced')\n",
    "}\n",
    "\n",
    "# Daftar model dengan class_weight\n",
    "weighted_models = {\n",
    "    \"Logistic Regression (class_weight)\": LogisticRegression(class_weight='balanced', max_iter=1000),\n",
    "    \"Linear SVM (class_weight)\": LinearSVC(class_weight='balanced')\n",
    "}\n",
    "\n",
    "for name, model in weighted_models.items():\n",
    "    print(\"=\"*60)\n",
    "    print(f\"Model: {name}\")\n",
    "\n",
    "    # Latih model dengan data imbalanced (asli)\n",
    "    model.fit(X_train, y_train)\n",
    "\n",
    "    # Prediksi di test set\n",
    "    y_pred = model.predict(X_test)\n",
    "\n",
    "    # Evaluasi\n",
    "    print(classification_report(y_test, y_pred))\n",
    "\n",
    "    # Confusion matrix\n",
    "    cm = confusion_matrix(y_test, y_pred, labels=model.classes_)\n",
    "    sns.heatmap(cm, annot=True, fmt=\"d\", cmap=\"Blues\",\n",
    "                xticklabels=model.classes_,\n",
    "                yticklabels=model.classes_)\n",
    "    plt.title(f\"Confusion Matrix - {name}\")\n",
    "    plt.xlabel(\"Predicted\")\n",
    "    plt.ylabel(\"Actual\")\n",
    "    plt.show()"
   ]
  },
  {
   "cell_type": "code",
   "execution_count": 28,
   "id": "c4f704bb",
   "metadata": {},
   "outputs": [
    {
     "data": {
      "text/plain": [
       "<pycaret.classification.oop.ClassificationExperiment at 0x27f4417dd50>"
      ]
     },
     "execution_count": 28,
     "metadata": {},
     "output_type": "execute_result"
    }
   ],
   "source": [
    "from pycaret.classification import ClassificationExperiment\n",
    "from imblearn.over_sampling import SMOTE\n",
    "\n",
    "s = ClassificationExperiment()\n",
    "\n",
    "s.setup(\n",
    "    data = new_df,\n",
    "    target = 'label', \n",
    "    train_size = 0.7,\n",
    "    session_id = 123,\n",
    "    preprocess = True,\n",
    "    text_features = ['cleaned_comments'],\n",
    "    ignore_features = ['comments'],\n",
    "    fix_imbalance = True,\n",
    "    fix_imbalance_method = SMOTE(),\n",
    "    verbose = False\n",
    ")"
   ]
  },
  {
   "cell_type": "code",
   "execution_count": 29,
   "id": "4d89b92b",
   "metadata": {},
   "outputs": [
    {
     "data": {
      "text/html": [],
      "text/plain": [
       "<IPython.core.display.HTML object>"
      ]
     },
     "metadata": {},
     "output_type": "display_data"
    },
    {
     "data": {
      "text/html": [
       "<style type=\"text/css\">\n",
       "#T_8bf77 th {\n",
       "  text-align: left;\n",
       "}\n",
       "#T_8bf77_row0_col0, #T_8bf77_row0_col4, #T_8bf77_row0_col6, #T_8bf77_row0_col7, #T_8bf77_row1_col0, #T_8bf77_row1_col1, #T_8bf77_row1_col2, #T_8bf77_row1_col3, #T_8bf77_row1_col4, #T_8bf77_row1_col5, #T_8bf77_row1_col6, #T_8bf77_row1_col7, #T_8bf77_row2_col0, #T_8bf77_row2_col1, #T_8bf77_row2_col2, #T_8bf77_row2_col3, #T_8bf77_row2_col4, #T_8bf77_row2_col5, #T_8bf77_row2_col6, #T_8bf77_row2_col7, #T_8bf77_row3_col0, #T_8bf77_row3_col1, #T_8bf77_row3_col2, #T_8bf77_row3_col3, #T_8bf77_row3_col5, #T_8bf77_row3_col7, #T_8bf77_row4_col0, #T_8bf77_row4_col1, #T_8bf77_row4_col2, #T_8bf77_row4_col3, #T_8bf77_row4_col5, #T_8bf77_row4_col6, #T_8bf77_row5_col0, #T_8bf77_row5_col1, #T_8bf77_row5_col2, #T_8bf77_row5_col3, #T_8bf77_row5_col4, #T_8bf77_row5_col5, #T_8bf77_row5_col6, #T_8bf77_row5_col7, #T_8bf77_row6_col0, #T_8bf77_row6_col1, #T_8bf77_row6_col2, #T_8bf77_row6_col3, #T_8bf77_row6_col4, #T_8bf77_row6_col5, #T_8bf77_row6_col6, #T_8bf77_row6_col7, #T_8bf77_row7_col0, #T_8bf77_row7_col1, #T_8bf77_row7_col2, #T_8bf77_row7_col3, #T_8bf77_row7_col4, #T_8bf77_row7_col5, #T_8bf77_row7_col6, #T_8bf77_row7_col7, #T_8bf77_row8_col0, #T_8bf77_row8_col1, #T_8bf77_row8_col2, #T_8bf77_row8_col3, #T_8bf77_row8_col4, #T_8bf77_row8_col5, #T_8bf77_row8_col6, #T_8bf77_row8_col7, #T_8bf77_row9_col0, #T_8bf77_row9_col1, #T_8bf77_row9_col2, #T_8bf77_row9_col3, #T_8bf77_row9_col4, #T_8bf77_row9_col5, #T_8bf77_row9_col6, #T_8bf77_row9_col7, #T_8bf77_row10_col0, #T_8bf77_row10_col1, #T_8bf77_row10_col2, #T_8bf77_row10_col3, #T_8bf77_row10_col4, #T_8bf77_row10_col5, #T_8bf77_row10_col6, #T_8bf77_row10_col7, #T_8bf77_row11_col0, #T_8bf77_row11_col1, #T_8bf77_row11_col2, #T_8bf77_row11_col3, #T_8bf77_row11_col4, #T_8bf77_row11_col5, #T_8bf77_row11_col6, #T_8bf77_row11_col7, #T_8bf77_row12_col0, #T_8bf77_row12_col1, #T_8bf77_row12_col2, #T_8bf77_row12_col3, #T_8bf77_row12_col4, #T_8bf77_row12_col5, #T_8bf77_row12_col6, #T_8bf77_row12_col7, #T_8bf77_row13_col0, #T_8bf77_row13_col1, #T_8bf77_row13_col2, #T_8bf77_row13_col3, #T_8bf77_row13_col4, #T_8bf77_row13_col5, #T_8bf77_row13_col6, #T_8bf77_row13_col7, #T_8bf77_row14_col0, #T_8bf77_row14_col1, #T_8bf77_row14_col2, #T_8bf77_row14_col3, #T_8bf77_row14_col4, #T_8bf77_row14_col5, #T_8bf77_row14_col6, #T_8bf77_row14_col7, #T_8bf77_row15_col0, #T_8bf77_row15_col1, #T_8bf77_row15_col2, #T_8bf77_row15_col3, #T_8bf77_row15_col4, #T_8bf77_row15_col5, #T_8bf77_row15_col6, #T_8bf77_row15_col7 {\n",
       "  text-align: left;\n",
       "}\n",
       "#T_8bf77_row0_col1, #T_8bf77_row0_col2, #T_8bf77_row0_col3, #T_8bf77_row0_col5, #T_8bf77_row3_col4, #T_8bf77_row3_col6, #T_8bf77_row4_col4, #T_8bf77_row4_col7 {\n",
       "  text-align: left;\n",
       "  background-color: yellow;\n",
       "}\n",
       "#T_8bf77_row0_col8, #T_8bf77_row1_col8, #T_8bf77_row2_col8, #T_8bf77_row3_col8, #T_8bf77_row4_col8, #T_8bf77_row5_col8, #T_8bf77_row6_col8, #T_8bf77_row8_col8, #T_8bf77_row9_col8, #T_8bf77_row10_col8, #T_8bf77_row11_col8, #T_8bf77_row12_col8, #T_8bf77_row13_col8, #T_8bf77_row14_col8, #T_8bf77_row15_col8 {\n",
       "  text-align: left;\n",
       "  background-color: lightgrey;\n",
       "}\n",
       "#T_8bf77_row7_col8 {\n",
       "  text-align: left;\n",
       "  background-color: yellow;\n",
       "  background-color: lightgrey;\n",
       "}\n",
       "</style>\n",
       "<table id=\"T_8bf77\">\n",
       "  <thead>\n",
       "    <tr>\n",
       "      <th class=\"blank level0\" >&nbsp;</th>\n",
       "      <th id=\"T_8bf77_level0_col0\" class=\"col_heading level0 col0\" >Model</th>\n",
       "      <th id=\"T_8bf77_level0_col1\" class=\"col_heading level0 col1\" >Accuracy</th>\n",
       "      <th id=\"T_8bf77_level0_col2\" class=\"col_heading level0 col2\" >AUC</th>\n",
       "      <th id=\"T_8bf77_level0_col3\" class=\"col_heading level0 col3\" >Recall</th>\n",
       "      <th id=\"T_8bf77_level0_col4\" class=\"col_heading level0 col4\" >Prec.</th>\n",
       "      <th id=\"T_8bf77_level0_col5\" class=\"col_heading level0 col5\" >F1</th>\n",
       "      <th id=\"T_8bf77_level0_col6\" class=\"col_heading level0 col6\" >Kappa</th>\n",
       "      <th id=\"T_8bf77_level0_col7\" class=\"col_heading level0 col7\" >MCC</th>\n",
       "      <th id=\"T_8bf77_level0_col8\" class=\"col_heading level0 col8\" >TT (Sec)</th>\n",
       "    </tr>\n",
       "  </thead>\n",
       "  <tbody>\n",
       "    <tr>\n",
       "      <th id=\"T_8bf77_level0_row0\" class=\"row_heading level0 row0\" >et</th>\n",
       "      <td id=\"T_8bf77_row0_col0\" class=\"data row0 col0\" >Extra Trees Classifier</td>\n",
       "      <td id=\"T_8bf77_row0_col1\" class=\"data row0 col1\" >0.7228</td>\n",
       "      <td id=\"T_8bf77_row0_col2\" class=\"data row0 col2\" >0.8126</td>\n",
       "      <td id=\"T_8bf77_row0_col3\" class=\"data row0 col3\" >0.7228</td>\n",
       "      <td id=\"T_8bf77_row0_col4\" class=\"data row0 col4\" >0.7303</td>\n",
       "      <td id=\"T_8bf77_row0_col5\" class=\"data row0 col5\" >0.7197</td>\n",
       "      <td id=\"T_8bf77_row0_col6\" class=\"data row0 col6\" >0.4369</td>\n",
       "      <td id=\"T_8bf77_row0_col7\" class=\"data row0 col7\" >0.4413</td>\n",
       "      <td id=\"T_8bf77_row0_col8\" class=\"data row0 col8\" >1.1150</td>\n",
       "    </tr>\n",
       "    <tr>\n",
       "      <th id=\"T_8bf77_level0_row1\" class=\"row_heading level0 row1\" >rf</th>\n",
       "      <td id=\"T_8bf77_row1_col0\" class=\"data row1 col0\" >Random Forest Classifier</td>\n",
       "      <td id=\"T_8bf77_row1_col1\" class=\"data row1 col1\" >0.7075</td>\n",
       "      <td id=\"T_8bf77_row1_col2\" class=\"data row1 col2\" >0.8007</td>\n",
       "      <td id=\"T_8bf77_row1_col3\" class=\"data row1 col3\" >0.7075</td>\n",
       "      <td id=\"T_8bf77_row1_col4\" class=\"data row1 col4\" >0.7166</td>\n",
       "      <td id=\"T_8bf77_row1_col5\" class=\"data row1 col5\" >0.7036</td>\n",
       "      <td id=\"T_8bf77_row1_col6\" class=\"data row1 col6\" >0.4061</td>\n",
       "      <td id=\"T_8bf77_row1_col7\" class=\"data row1 col7\" >0.4111</td>\n",
       "      <td id=\"T_8bf77_row1_col8\" class=\"data row1 col8\" >0.7870</td>\n",
       "    </tr>\n",
       "    <tr>\n",
       "      <th id=\"T_8bf77_level0_row2\" class=\"row_heading level0 row2\" >svm</th>\n",
       "      <td id=\"T_8bf77_row2_col0\" class=\"data row2 col0\" >SVM - Linear Kernel</td>\n",
       "      <td id=\"T_8bf77_row2_col1\" class=\"data row2 col1\" >0.7067</td>\n",
       "      <td id=\"T_8bf77_row2_col2\" class=\"data row2 col2\" >0.0000</td>\n",
       "      <td id=\"T_8bf77_row2_col3\" class=\"data row2 col3\" >0.7067</td>\n",
       "      <td id=\"T_8bf77_row2_col4\" class=\"data row2 col4\" >0.7285</td>\n",
       "      <td id=\"T_8bf77_row2_col5\" class=\"data row2 col5\" >0.7124</td>\n",
       "      <td id=\"T_8bf77_row2_col6\" class=\"data row2 col6\" >0.4338</td>\n",
       "      <td id=\"T_8bf77_row2_col7\" class=\"data row2 col7\" >0.4394</td>\n",
       "      <td id=\"T_8bf77_row2_col8\" class=\"data row2 col8\" >0.3300</td>\n",
       "    </tr>\n",
       "    <tr>\n",
       "      <th id=\"T_8bf77_level0_row3\" class=\"row_heading level0 row3\" >ridge</th>\n",
       "      <td id=\"T_8bf77_row3_col0\" class=\"data row3 col0\" >Ridge Classifier</td>\n",
       "      <td id=\"T_8bf77_row3_col1\" class=\"data row3 col1\" >0.7067</td>\n",
       "      <td id=\"T_8bf77_row3_col2\" class=\"data row3 col2\" >0.0000</td>\n",
       "      <td id=\"T_8bf77_row3_col3\" class=\"data row3 col3\" >0.7067</td>\n",
       "      <td id=\"T_8bf77_row3_col4\" class=\"data row3 col4\" >0.7414</td>\n",
       "      <td id=\"T_8bf77_row3_col5\" class=\"data row3 col5\" >0.7163</td>\n",
       "      <td id=\"T_8bf77_row3_col6\" class=\"data row3 col6\" >0.4488</td>\n",
       "      <td id=\"T_8bf77_row3_col7\" class=\"data row3 col7\" >0.4571</td>\n",
       "      <td id=\"T_8bf77_row3_col8\" class=\"data row3 col8\" >0.4100</td>\n",
       "    </tr>\n",
       "    <tr>\n",
       "      <th id=\"T_8bf77_level0_row4\" class=\"row_heading level0 row4\" >lr</th>\n",
       "      <td id=\"T_8bf77_row4_col0\" class=\"data row4 col0\" >Logistic Regression</td>\n",
       "      <td id=\"T_8bf77_row4_col1\" class=\"data row4 col1\" >0.7037</td>\n",
       "      <td id=\"T_8bf77_row4_col2\" class=\"data row4 col2\" >0.0000</td>\n",
       "      <td id=\"T_8bf77_row4_col3\" class=\"data row4 col3\" >0.7037</td>\n",
       "      <td id=\"T_8bf77_row4_col4\" class=\"data row4 col4\" >0.7414</td>\n",
       "      <td id=\"T_8bf77_row4_col5\" class=\"data row4 col5\" >0.7126</td>\n",
       "      <td id=\"T_8bf77_row4_col6\" class=\"data row4 col6\" >0.4476</td>\n",
       "      <td id=\"T_8bf77_row4_col7\" class=\"data row4 col7\" >0.4582</td>\n",
       "      <td id=\"T_8bf77_row4_col8\" class=\"data row4 col8\" >1.1710</td>\n",
       "    </tr>\n",
       "    <tr>\n",
       "      <th id=\"T_8bf77_level0_row5\" class=\"row_heading level0 row5\" >xgboost</th>\n",
       "      <td id=\"T_8bf77_row5_col0\" class=\"data row5 col0\" >Extreme Gradient Boosting</td>\n",
       "      <td id=\"T_8bf77_row5_col1\" class=\"data row5 col1\" >0.6922</td>\n",
       "      <td id=\"T_8bf77_row5_col2\" class=\"data row5 col2\" >0.7976</td>\n",
       "      <td id=\"T_8bf77_row5_col3\" class=\"data row5 col3\" >0.6922</td>\n",
       "      <td id=\"T_8bf77_row5_col4\" class=\"data row5 col4\" >0.7109</td>\n",
       "      <td id=\"T_8bf77_row5_col5\" class=\"data row5 col5\" >0.6929</td>\n",
       "      <td id=\"T_8bf77_row5_col6\" class=\"data row5 col6\" >0.3986</td>\n",
       "      <td id=\"T_8bf77_row5_col7\" class=\"data row5 col7\" >0.4058</td>\n",
       "      <td id=\"T_8bf77_row5_col8\" class=\"data row5 col8\" >1.2310</td>\n",
       "    </tr>\n",
       "    <tr>\n",
       "      <th id=\"T_8bf77_level0_row6\" class=\"row_heading level0 row6\" >catboost</th>\n",
       "      <td id=\"T_8bf77_row6_col0\" class=\"data row6 col0\" >CatBoost Classifier</td>\n",
       "      <td id=\"T_8bf77_row6_col1\" class=\"data row6 col1\" >0.6808</td>\n",
       "      <td id=\"T_8bf77_row6_col2\" class=\"data row6 col2\" >0.8024</td>\n",
       "      <td id=\"T_8bf77_row6_col3\" class=\"data row6 col3\" >0.6808</td>\n",
       "      <td id=\"T_8bf77_row6_col4\" class=\"data row6 col4\" >0.7152</td>\n",
       "      <td id=\"T_8bf77_row6_col5\" class=\"data row6 col5\" >0.6851</td>\n",
       "      <td id=\"T_8bf77_row6_col6\" class=\"data row6 col6\" >0.3980</td>\n",
       "      <td id=\"T_8bf77_row6_col7\" class=\"data row6 col7\" >0.4101</td>\n",
       "      <td id=\"T_8bf77_row6_col8\" class=\"data row6 col8\" >13.8420</td>\n",
       "    </tr>\n",
       "    <tr>\n",
       "      <th id=\"T_8bf77_level0_row7\" class=\"row_heading level0 row7\" >dummy</th>\n",
       "      <td id=\"T_8bf77_row7_col0\" class=\"data row7 col0\" >Dummy Classifier</td>\n",
       "      <td id=\"T_8bf77_row7_col1\" class=\"data row7 col1\" >0.6654</td>\n",
       "      <td id=\"T_8bf77_row7_col2\" class=\"data row7 col2\" >0.5000</td>\n",
       "      <td id=\"T_8bf77_row7_col3\" class=\"data row7 col3\" >0.6654</td>\n",
       "      <td id=\"T_8bf77_row7_col4\" class=\"data row7 col4\" >0.4428</td>\n",
       "      <td id=\"T_8bf77_row7_col5\" class=\"data row7 col5\" >0.5317</td>\n",
       "      <td id=\"T_8bf77_row7_col6\" class=\"data row7 col6\" >0.0000</td>\n",
       "      <td id=\"T_8bf77_row7_col7\" class=\"data row7 col7\" >0.0000</td>\n",
       "      <td id=\"T_8bf77_row7_col8\" class=\"data row7 col8\" >0.1550</td>\n",
       "    </tr>\n",
       "    <tr>\n",
       "      <th id=\"T_8bf77_level0_row8\" class=\"row_heading level0 row8\" >dt</th>\n",
       "      <td id=\"T_8bf77_row8_col0\" class=\"data row8 col0\" >Decision Tree Classifier</td>\n",
       "      <td id=\"T_8bf77_row8_col1\" class=\"data row8 col1\" >0.6624</td>\n",
       "      <td id=\"T_8bf77_row8_col2\" class=\"data row8 col2\" >0.6832</td>\n",
       "      <td id=\"T_8bf77_row8_col3\" class=\"data row8 col3\" >0.6624</td>\n",
       "      <td id=\"T_8bf77_row8_col4\" class=\"data row8 col4\" >0.6775</td>\n",
       "      <td id=\"T_8bf77_row8_col5\" class=\"data row8 col5\" >0.6663</td>\n",
       "      <td id=\"T_8bf77_row8_col6\" class=\"data row8 col6\" >0.3436</td>\n",
       "      <td id=\"T_8bf77_row8_col7\" class=\"data row8 col7\" >0.3467</td>\n",
       "      <td id=\"T_8bf77_row8_col8\" class=\"data row8 col8\" >0.2880</td>\n",
       "    </tr>\n",
       "    <tr>\n",
       "      <th id=\"T_8bf77_level0_row9\" class=\"row_heading level0 row9\" >lightgbm</th>\n",
       "      <td id=\"T_8bf77_row9_col0\" class=\"data row9 col0\" >Light Gradient Boosting Machine</td>\n",
       "      <td id=\"T_8bf77_row9_col1\" class=\"data row9 col1\" >0.6624</td>\n",
       "      <td id=\"T_8bf77_row9_col2\" class=\"data row9 col2\" >0.7643</td>\n",
       "      <td id=\"T_8bf77_row9_col3\" class=\"data row9 col3\" >0.6624</td>\n",
       "      <td id=\"T_8bf77_row9_col4\" class=\"data row9 col4\" >0.6859</td>\n",
       "      <td id=\"T_8bf77_row9_col5\" class=\"data row9 col5\" >0.6660</td>\n",
       "      <td id=\"T_8bf77_row9_col6\" class=\"data row9 col6\" >0.3470</td>\n",
       "      <td id=\"T_8bf77_row9_col7\" class=\"data row9 col7\" >0.3535</td>\n",
       "      <td id=\"T_8bf77_row9_col8\" class=\"data row9 col8\" >0.8820</td>\n",
       "    </tr>\n",
       "    <tr>\n",
       "      <th id=\"T_8bf77_level0_row10\" class=\"row_heading level0 row10\" >gbc</th>\n",
       "      <td id=\"T_8bf77_row10_col0\" class=\"data row10 col0\" >Gradient Boosting Classifier</td>\n",
       "      <td id=\"T_8bf77_row10_col1\" class=\"data row10 col1\" >0.6555</td>\n",
       "      <td id=\"T_8bf77_row10_col2\" class=\"data row10 col2\" >0.0000</td>\n",
       "      <td id=\"T_8bf77_row10_col3\" class=\"data row10 col3\" >0.6555</td>\n",
       "      <td id=\"T_8bf77_row10_col4\" class=\"data row10 col4\" >0.7095</td>\n",
       "      <td id=\"T_8bf77_row10_col5\" class=\"data row10 col5\" >0.6629</td>\n",
       "      <td id=\"T_8bf77_row10_col6\" class=\"data row10 col6\" >0.3766</td>\n",
       "      <td id=\"T_8bf77_row10_col7\" class=\"data row10 col7\" >0.3962</td>\n",
       "      <td id=\"T_8bf77_row10_col8\" class=\"data row10 col8\" >3.6820</td>\n",
       "    </tr>\n",
       "    <tr>\n",
       "      <th id=\"T_8bf77_level0_row11\" class=\"row_heading level0 row11\" >lda</th>\n",
       "      <td id=\"T_8bf77_row11_col0\" class=\"data row11 col0\" >Linear Discriminant Analysis</td>\n",
       "      <td id=\"T_8bf77_row11_col1\" class=\"data row11 col1\" >0.6179</td>\n",
       "      <td id=\"T_8bf77_row11_col2\" class=\"data row11 col2\" >0.0000</td>\n",
       "      <td id=\"T_8bf77_row11_col3\" class=\"data row11 col3\" >0.6179</td>\n",
       "      <td id=\"T_8bf77_row11_col4\" class=\"data row11 col4\" >0.6729</td>\n",
       "      <td id=\"T_8bf77_row11_col5\" class=\"data row11 col5\" >0.6333</td>\n",
       "      <td id=\"T_8bf77_row11_col6\" class=\"data row11 col6\" >0.3105</td>\n",
       "      <td id=\"T_8bf77_row11_col7\" class=\"data row11 col7\" >0.3215</td>\n",
       "      <td id=\"T_8bf77_row11_col8\" class=\"data row11 col8\" >3.0480</td>\n",
       "    </tr>\n",
       "    <tr>\n",
       "      <th id=\"T_8bf77_level0_row12\" class=\"row_heading level0 row12\" >nb</th>\n",
       "      <td id=\"T_8bf77_row12_col0\" class=\"data row12 col0\" >Naive Bayes</td>\n",
       "      <td id=\"T_8bf77_row12_col1\" class=\"data row12 col1\" >0.5750</td>\n",
       "      <td id=\"T_8bf77_row12_col2\" class=\"data row12 col2\" >0.6529</td>\n",
       "      <td id=\"T_8bf77_row12_col3\" class=\"data row12 col3\" >0.5750</td>\n",
       "      <td id=\"T_8bf77_row12_col4\" class=\"data row12 col4\" >0.6601</td>\n",
       "      <td id=\"T_8bf77_row12_col5\" class=\"data row12 col5\" >0.6029</td>\n",
       "      <td id=\"T_8bf77_row12_col6\" class=\"data row12 col6\" >0.2537</td>\n",
       "      <td id=\"T_8bf77_row12_col7\" class=\"data row12 col7\" >0.2648</td>\n",
       "      <td id=\"T_8bf77_row12_col8\" class=\"data row12 col8\" >0.1580</td>\n",
       "    </tr>\n",
       "    <tr>\n",
       "      <th id=\"T_8bf77_level0_row13\" class=\"row_heading level0 row13\" >qda</th>\n",
       "      <td id=\"T_8bf77_row13_col0\" class=\"data row13 col0\" >Quadratic Discriminant Analysis</td>\n",
       "      <td id=\"T_8bf77_row13_col1\" class=\"data row13 col1\" >0.5712</td>\n",
       "      <td id=\"T_8bf77_row13_col2\" class=\"data row13 col2\" >0.0000</td>\n",
       "      <td id=\"T_8bf77_row13_col3\" class=\"data row13 col3\" >0.5712</td>\n",
       "      <td id=\"T_8bf77_row13_col4\" class=\"data row13 col4\" >0.6059</td>\n",
       "      <td id=\"T_8bf77_row13_col5\" class=\"data row13 col5\" >0.5688</td>\n",
       "      <td id=\"T_8bf77_row13_col6\" class=\"data row13 col6\" >0.1372</td>\n",
       "      <td id=\"T_8bf77_row13_col7\" class=\"data row13 col7\" >0.1433</td>\n",
       "      <td id=\"T_8bf77_row13_col8\" class=\"data row13 col8\" >0.7850</td>\n",
       "    </tr>\n",
       "    <tr>\n",
       "      <th id=\"T_8bf77_level0_row14\" class=\"row_heading level0 row14\" >ada</th>\n",
       "      <td id=\"T_8bf77_row14_col0\" class=\"data row14 col0\" >Ada Boost Classifier</td>\n",
       "      <td id=\"T_8bf77_row14_col1\" class=\"data row14 col1\" >0.5498</td>\n",
       "      <td id=\"T_8bf77_row14_col2\" class=\"data row14 col2\" >0.0000</td>\n",
       "      <td id=\"T_8bf77_row14_col3\" class=\"data row14 col3\" >0.5498</td>\n",
       "      <td id=\"T_8bf77_row14_col4\" class=\"data row14 col4\" >0.6530</td>\n",
       "      <td id=\"T_8bf77_row14_col5\" class=\"data row14 col5\" >0.5597</td>\n",
       "      <td id=\"T_8bf77_row14_col6\" class=\"data row14 col6\" >0.2449</td>\n",
       "      <td id=\"T_8bf77_row14_col7\" class=\"data row14 col7\" >0.2755</td>\n",
       "      <td id=\"T_8bf77_row14_col8\" class=\"data row14 col8\" >0.8020</td>\n",
       "    </tr>\n",
       "    <tr>\n",
       "      <th id=\"T_8bf77_level0_row15\" class=\"row_heading level0 row15\" >knn</th>\n",
       "      <td id=\"T_8bf77_row15_col0\" class=\"data row15 col0\" >K Neighbors Classifier</td>\n",
       "      <td id=\"T_8bf77_row15_col1\" class=\"data row15 col1\" >0.3529</td>\n",
       "      <td id=\"T_8bf77_row15_col2\" class=\"data row15 col2\" >0.6557</td>\n",
       "      <td id=\"T_8bf77_row15_col3\" class=\"data row15 col3\" >0.3529</td>\n",
       "      <td id=\"T_8bf77_row15_col4\" class=\"data row15 col4\" >0.7168</td>\n",
       "      <td id=\"T_8bf77_row15_col5\" class=\"data row15 col5\" >0.3074</td>\n",
       "      <td id=\"T_8bf77_row15_col6\" class=\"data row15 col6\" >0.1156</td>\n",
       "      <td id=\"T_8bf77_row15_col7\" class=\"data row15 col7\" >0.1952</td>\n",
       "      <td id=\"T_8bf77_row15_col8\" class=\"data row15 col8\" >0.7190</td>\n",
       "    </tr>\n",
       "  </tbody>\n",
       "</table>\n"
      ],
      "text/plain": [
       "<pandas.io.formats.style.Styler at 0x27f44086b10>"
      ]
     },
     "metadata": {},
     "output_type": "display_data"
    },
    {
     "data": {
      "text/html": [],
      "text/plain": [
       "<IPython.core.display.HTML object>"
      ]
     },
     "metadata": {},
     "output_type": "display_data"
    }
   ],
   "source": [
    "train_model = s.compare_models()"
   ]
  },
  {
   "cell_type": "code",
   "execution_count": 30,
   "id": "7760f441",
   "metadata": {},
   "outputs": [
    {
     "name": "stdout",
     "output_type": "stream",
     "text": [
      "ExtraTreesClassifier(bootstrap=False, ccp_alpha=0.0, class_weight=None,\n",
      "                     criterion='gini', max_depth=None, max_features='sqrt',\n",
      "                     max_leaf_nodes=None, max_samples=None,\n",
      "                     min_impurity_decrease=0.0, min_samples_leaf=1,\n",
      "                     min_samples_split=2, min_weight_fraction_leaf=0.0,\n",
      "                     monotonic_cst=None, n_estimators=100, n_jobs=-1,\n",
      "                     oob_score=False, random_state=123, verbose=0,\n",
      "                     warm_start=False)\n"
     ]
    }
   ],
   "source": [
    "print(train_model)"
   ]
  },
  {
   "cell_type": "markdown",
   "id": "461b4913",
   "metadata": {},
   "source": [
    "# 8. Model Training (Logistic Regression with class_weight)\n",
    "---"
   ]
  },
  {
   "cell_type": "code",
   "execution_count": 31,
   "id": "b24ca661",
   "metadata": {},
   "outputs": [
    {
     "data": {
      "text/html": [
       "<style>#sk-container-id-1 {\n",
       "  /* Definition of color scheme common for light and dark mode */\n",
       "  --sklearn-color-text: black;\n",
       "  --sklearn-color-line: gray;\n",
       "  /* Definition of color scheme for unfitted estimators */\n",
       "  --sklearn-color-unfitted-level-0: #fff5e6;\n",
       "  --sklearn-color-unfitted-level-1: #f6e4d2;\n",
       "  --sklearn-color-unfitted-level-2: #ffe0b3;\n",
       "  --sklearn-color-unfitted-level-3: chocolate;\n",
       "  /* Definition of color scheme for fitted estimators */\n",
       "  --sklearn-color-fitted-level-0: #f0f8ff;\n",
       "  --sklearn-color-fitted-level-1: #d4ebff;\n",
       "  --sklearn-color-fitted-level-2: #b3dbfd;\n",
       "  --sklearn-color-fitted-level-3: cornflowerblue;\n",
       "\n",
       "  /* Specific color for light theme */\n",
       "  --sklearn-color-text-on-default-background: var(--sg-text-color, var(--theme-code-foreground, var(--jp-content-font-color1, black)));\n",
       "  --sklearn-color-background: var(--sg-background-color, var(--theme-background, var(--jp-layout-color0, white)));\n",
       "  --sklearn-color-border-box: var(--sg-text-color, var(--theme-code-foreground, var(--jp-content-font-color1, black)));\n",
       "  --sklearn-color-icon: #696969;\n",
       "\n",
       "  @media (prefers-color-scheme: dark) {\n",
       "    /* Redefinition of color scheme for dark theme */\n",
       "    --sklearn-color-text-on-default-background: var(--sg-text-color, var(--theme-code-foreground, var(--jp-content-font-color1, white)));\n",
       "    --sklearn-color-background: var(--sg-background-color, var(--theme-background, var(--jp-layout-color0, #111)));\n",
       "    --sklearn-color-border-box: var(--sg-text-color, var(--theme-code-foreground, var(--jp-content-font-color1, white)));\n",
       "    --sklearn-color-icon: #878787;\n",
       "  }\n",
       "}\n",
       "\n",
       "#sk-container-id-1 {\n",
       "  color: var(--sklearn-color-text);\n",
       "}\n",
       "\n",
       "#sk-container-id-1 pre {\n",
       "  padding: 0;\n",
       "}\n",
       "\n",
       "#sk-container-id-1 input.sk-hidden--visually {\n",
       "  border: 0;\n",
       "  clip: rect(1px 1px 1px 1px);\n",
       "  clip: rect(1px, 1px, 1px, 1px);\n",
       "  height: 1px;\n",
       "  margin: -1px;\n",
       "  overflow: hidden;\n",
       "  padding: 0;\n",
       "  position: absolute;\n",
       "  width: 1px;\n",
       "}\n",
       "\n",
       "#sk-container-id-1 div.sk-dashed-wrapped {\n",
       "  border: 1px dashed var(--sklearn-color-line);\n",
       "  margin: 0 0.4em 0.5em 0.4em;\n",
       "  box-sizing: border-box;\n",
       "  padding-bottom: 0.4em;\n",
       "  background-color: var(--sklearn-color-background);\n",
       "}\n",
       "\n",
       "#sk-container-id-1 div.sk-container {\n",
       "  /* jupyter's `normalize.less` sets `[hidden] { display: none; }`\n",
       "     but bootstrap.min.css set `[hidden] { display: none !important; }`\n",
       "     so we also need the `!important` here to be able to override the\n",
       "     default hidden behavior on the sphinx rendered scikit-learn.org.\n",
       "     See: https://github.com/scikit-learn/scikit-learn/issues/21755 */\n",
       "  display: inline-block !important;\n",
       "  position: relative;\n",
       "}\n",
       "\n",
       "#sk-container-id-1 div.sk-text-repr-fallback {\n",
       "  display: none;\n",
       "}\n",
       "\n",
       "div.sk-parallel-item,\n",
       "div.sk-serial,\n",
       "div.sk-item {\n",
       "  /* draw centered vertical line to link estimators */\n",
       "  background-image: linear-gradient(var(--sklearn-color-text-on-default-background), var(--sklearn-color-text-on-default-background));\n",
       "  background-size: 2px 100%;\n",
       "  background-repeat: no-repeat;\n",
       "  background-position: center center;\n",
       "}\n",
       "\n",
       "/* Parallel-specific style estimator block */\n",
       "\n",
       "#sk-container-id-1 div.sk-parallel-item::after {\n",
       "  content: \"\";\n",
       "  width: 100%;\n",
       "  border-bottom: 2px solid var(--sklearn-color-text-on-default-background);\n",
       "  flex-grow: 1;\n",
       "}\n",
       "\n",
       "#sk-container-id-1 div.sk-parallel {\n",
       "  display: flex;\n",
       "  align-items: stretch;\n",
       "  justify-content: center;\n",
       "  background-color: var(--sklearn-color-background);\n",
       "  position: relative;\n",
       "}\n",
       "\n",
       "#sk-container-id-1 div.sk-parallel-item {\n",
       "  display: flex;\n",
       "  flex-direction: column;\n",
       "}\n",
       "\n",
       "#sk-container-id-1 div.sk-parallel-item:first-child::after {\n",
       "  align-self: flex-end;\n",
       "  width: 50%;\n",
       "}\n",
       "\n",
       "#sk-container-id-1 div.sk-parallel-item:last-child::after {\n",
       "  align-self: flex-start;\n",
       "  width: 50%;\n",
       "}\n",
       "\n",
       "#sk-container-id-1 div.sk-parallel-item:only-child::after {\n",
       "  width: 0;\n",
       "}\n",
       "\n",
       "/* Serial-specific style estimator block */\n",
       "\n",
       "#sk-container-id-1 div.sk-serial {\n",
       "  display: flex;\n",
       "  flex-direction: column;\n",
       "  align-items: center;\n",
       "  background-color: var(--sklearn-color-background);\n",
       "  padding-right: 1em;\n",
       "  padding-left: 1em;\n",
       "}\n",
       "\n",
       "\n",
       "/* Toggleable style: style used for estimator/Pipeline/ColumnTransformer box that is\n",
       "clickable and can be expanded/collapsed.\n",
       "- Pipeline and ColumnTransformer use this feature and define the default style\n",
       "- Estimators will overwrite some part of the style using the `sk-estimator` class\n",
       "*/\n",
       "\n",
       "/* Pipeline and ColumnTransformer style (default) */\n",
       "\n",
       "#sk-container-id-1 div.sk-toggleable {\n",
       "  /* Default theme specific background. It is overwritten whether we have a\n",
       "  specific estimator or a Pipeline/ColumnTransformer */\n",
       "  background-color: var(--sklearn-color-background);\n",
       "}\n",
       "\n",
       "/* Toggleable label */\n",
       "#sk-container-id-1 label.sk-toggleable__label {\n",
       "  cursor: pointer;\n",
       "  display: block;\n",
       "  width: 100%;\n",
       "  margin-bottom: 0;\n",
       "  padding: 0.5em;\n",
       "  box-sizing: border-box;\n",
       "  text-align: center;\n",
       "}\n",
       "\n",
       "#sk-container-id-1 label.sk-toggleable__label-arrow:before {\n",
       "  /* Arrow on the left of the label */\n",
       "  content: \"▸\";\n",
       "  float: left;\n",
       "  margin-right: 0.25em;\n",
       "  color: var(--sklearn-color-icon);\n",
       "}\n",
       "\n",
       "#sk-container-id-1 label.sk-toggleable__label-arrow:hover:before {\n",
       "  color: var(--sklearn-color-text);\n",
       "}\n",
       "\n",
       "/* Toggleable content - dropdown */\n",
       "\n",
       "#sk-container-id-1 div.sk-toggleable__content {\n",
       "  max-height: 0;\n",
       "  max-width: 0;\n",
       "  overflow: hidden;\n",
       "  text-align: left;\n",
       "  /* unfitted */\n",
       "  background-color: var(--sklearn-color-unfitted-level-0);\n",
       "}\n",
       "\n",
       "#sk-container-id-1 div.sk-toggleable__content.fitted {\n",
       "  /* fitted */\n",
       "  background-color: var(--sklearn-color-fitted-level-0);\n",
       "}\n",
       "\n",
       "#sk-container-id-1 div.sk-toggleable__content pre {\n",
       "  margin: 0.2em;\n",
       "  border-radius: 0.25em;\n",
       "  color: var(--sklearn-color-text);\n",
       "  /* unfitted */\n",
       "  background-color: var(--sklearn-color-unfitted-level-0);\n",
       "}\n",
       "\n",
       "#sk-container-id-1 div.sk-toggleable__content.fitted pre {\n",
       "  /* unfitted */\n",
       "  background-color: var(--sklearn-color-fitted-level-0);\n",
       "}\n",
       "\n",
       "#sk-container-id-1 input.sk-toggleable__control:checked~div.sk-toggleable__content {\n",
       "  /* Expand drop-down */\n",
       "  max-height: 200px;\n",
       "  max-width: 100%;\n",
       "  overflow: auto;\n",
       "}\n",
       "\n",
       "#sk-container-id-1 input.sk-toggleable__control:checked~label.sk-toggleable__label-arrow:before {\n",
       "  content: \"▾\";\n",
       "}\n",
       "\n",
       "/* Pipeline/ColumnTransformer-specific style */\n",
       "\n",
       "#sk-container-id-1 div.sk-label input.sk-toggleable__control:checked~label.sk-toggleable__label {\n",
       "  color: var(--sklearn-color-text);\n",
       "  background-color: var(--sklearn-color-unfitted-level-2);\n",
       "}\n",
       "\n",
       "#sk-container-id-1 div.sk-label.fitted input.sk-toggleable__control:checked~label.sk-toggleable__label {\n",
       "  background-color: var(--sklearn-color-fitted-level-2);\n",
       "}\n",
       "\n",
       "/* Estimator-specific style */\n",
       "\n",
       "/* Colorize estimator box */\n",
       "#sk-container-id-1 div.sk-estimator input.sk-toggleable__control:checked~label.sk-toggleable__label {\n",
       "  /* unfitted */\n",
       "  background-color: var(--sklearn-color-unfitted-level-2);\n",
       "}\n",
       "\n",
       "#sk-container-id-1 div.sk-estimator.fitted input.sk-toggleable__control:checked~label.sk-toggleable__label {\n",
       "  /* fitted */\n",
       "  background-color: var(--sklearn-color-fitted-level-2);\n",
       "}\n",
       "\n",
       "#sk-container-id-1 div.sk-label label.sk-toggleable__label,\n",
       "#sk-container-id-1 div.sk-label label {\n",
       "  /* The background is the default theme color */\n",
       "  color: var(--sklearn-color-text-on-default-background);\n",
       "}\n",
       "\n",
       "/* On hover, darken the color of the background */\n",
       "#sk-container-id-1 div.sk-label:hover label.sk-toggleable__label {\n",
       "  color: var(--sklearn-color-text);\n",
       "  background-color: var(--sklearn-color-unfitted-level-2);\n",
       "}\n",
       "\n",
       "/* Label box, darken color on hover, fitted */\n",
       "#sk-container-id-1 div.sk-label.fitted:hover label.sk-toggleable__label.fitted {\n",
       "  color: var(--sklearn-color-text);\n",
       "  background-color: var(--sklearn-color-fitted-level-2);\n",
       "}\n",
       "\n",
       "/* Estimator label */\n",
       "\n",
       "#sk-container-id-1 div.sk-label label {\n",
       "  font-family: monospace;\n",
       "  font-weight: bold;\n",
       "  display: inline-block;\n",
       "  line-height: 1.2em;\n",
       "}\n",
       "\n",
       "#sk-container-id-1 div.sk-label-container {\n",
       "  text-align: center;\n",
       "}\n",
       "\n",
       "/* Estimator-specific */\n",
       "#sk-container-id-1 div.sk-estimator {\n",
       "  font-family: monospace;\n",
       "  border: 1px dotted var(--sklearn-color-border-box);\n",
       "  border-radius: 0.25em;\n",
       "  box-sizing: border-box;\n",
       "  margin-bottom: 0.5em;\n",
       "  /* unfitted */\n",
       "  background-color: var(--sklearn-color-unfitted-level-0);\n",
       "}\n",
       "\n",
       "#sk-container-id-1 div.sk-estimator.fitted {\n",
       "  /* fitted */\n",
       "  background-color: var(--sklearn-color-fitted-level-0);\n",
       "}\n",
       "\n",
       "/* on hover */\n",
       "#sk-container-id-1 div.sk-estimator:hover {\n",
       "  /* unfitted */\n",
       "  background-color: var(--sklearn-color-unfitted-level-2);\n",
       "}\n",
       "\n",
       "#sk-container-id-1 div.sk-estimator.fitted:hover {\n",
       "  /* fitted */\n",
       "  background-color: var(--sklearn-color-fitted-level-2);\n",
       "}\n",
       "\n",
       "/* Specification for estimator info (e.g. \"i\" and \"?\") */\n",
       "\n",
       "/* Common style for \"i\" and \"?\" */\n",
       "\n",
       ".sk-estimator-doc-link,\n",
       "a:link.sk-estimator-doc-link,\n",
       "a:visited.sk-estimator-doc-link {\n",
       "  float: right;\n",
       "  font-size: smaller;\n",
       "  line-height: 1em;\n",
       "  font-family: monospace;\n",
       "  background-color: var(--sklearn-color-background);\n",
       "  border-radius: 1em;\n",
       "  height: 1em;\n",
       "  width: 1em;\n",
       "  text-decoration: none !important;\n",
       "  margin-left: 1ex;\n",
       "  /* unfitted */\n",
       "  border: var(--sklearn-color-unfitted-level-1) 1pt solid;\n",
       "  color: var(--sklearn-color-unfitted-level-1);\n",
       "}\n",
       "\n",
       ".sk-estimator-doc-link.fitted,\n",
       "a:link.sk-estimator-doc-link.fitted,\n",
       "a:visited.sk-estimator-doc-link.fitted {\n",
       "  /* fitted */\n",
       "  border: var(--sklearn-color-fitted-level-1) 1pt solid;\n",
       "  color: var(--sklearn-color-fitted-level-1);\n",
       "}\n",
       "\n",
       "/* On hover */\n",
       "div.sk-estimator:hover .sk-estimator-doc-link:hover,\n",
       ".sk-estimator-doc-link:hover,\n",
       "div.sk-label-container:hover .sk-estimator-doc-link:hover,\n",
       ".sk-estimator-doc-link:hover {\n",
       "  /* unfitted */\n",
       "  background-color: var(--sklearn-color-unfitted-level-3);\n",
       "  color: var(--sklearn-color-background);\n",
       "  text-decoration: none;\n",
       "}\n",
       "\n",
       "div.sk-estimator.fitted:hover .sk-estimator-doc-link.fitted:hover,\n",
       ".sk-estimator-doc-link.fitted:hover,\n",
       "div.sk-label-container:hover .sk-estimator-doc-link.fitted:hover,\n",
       ".sk-estimator-doc-link.fitted:hover {\n",
       "  /* fitted */\n",
       "  background-color: var(--sklearn-color-fitted-level-3);\n",
       "  color: var(--sklearn-color-background);\n",
       "  text-decoration: none;\n",
       "}\n",
       "\n",
       "/* Span, style for the box shown on hovering the info icon */\n",
       ".sk-estimator-doc-link span {\n",
       "  display: none;\n",
       "  z-index: 9999;\n",
       "  position: relative;\n",
       "  font-weight: normal;\n",
       "  right: .2ex;\n",
       "  padding: .5ex;\n",
       "  margin: .5ex;\n",
       "  width: min-content;\n",
       "  min-width: 20ex;\n",
       "  max-width: 50ex;\n",
       "  color: var(--sklearn-color-text);\n",
       "  box-shadow: 2pt 2pt 4pt #999;\n",
       "  /* unfitted */\n",
       "  background: var(--sklearn-color-unfitted-level-0);\n",
       "  border: .5pt solid var(--sklearn-color-unfitted-level-3);\n",
       "}\n",
       "\n",
       ".sk-estimator-doc-link.fitted span {\n",
       "  /* fitted */\n",
       "  background: var(--sklearn-color-fitted-level-0);\n",
       "  border: var(--sklearn-color-fitted-level-3);\n",
       "}\n",
       "\n",
       ".sk-estimator-doc-link:hover span {\n",
       "  display: block;\n",
       "}\n",
       "\n",
       "/* \"?\"-specific style due to the `<a>` HTML tag */\n",
       "\n",
       "#sk-container-id-1 a.estimator_doc_link {\n",
       "  float: right;\n",
       "  font-size: 1rem;\n",
       "  line-height: 1em;\n",
       "  font-family: monospace;\n",
       "  background-color: var(--sklearn-color-background);\n",
       "  border-radius: 1rem;\n",
       "  height: 1rem;\n",
       "  width: 1rem;\n",
       "  text-decoration: none;\n",
       "  /* unfitted */\n",
       "  color: var(--sklearn-color-unfitted-level-1);\n",
       "  border: var(--sklearn-color-unfitted-level-1) 1pt solid;\n",
       "}\n",
       "\n",
       "#sk-container-id-1 a.estimator_doc_link.fitted {\n",
       "  /* fitted */\n",
       "  border: var(--sklearn-color-fitted-level-1) 1pt solid;\n",
       "  color: var(--sklearn-color-fitted-level-1);\n",
       "}\n",
       "\n",
       "/* On hover */\n",
       "#sk-container-id-1 a.estimator_doc_link:hover {\n",
       "  /* unfitted */\n",
       "  background-color: var(--sklearn-color-unfitted-level-3);\n",
       "  color: var(--sklearn-color-background);\n",
       "  text-decoration: none;\n",
       "}\n",
       "\n",
       "#sk-container-id-1 a.estimator_doc_link.fitted:hover {\n",
       "  /* fitted */\n",
       "  background-color: var(--sklearn-color-fitted-level-3);\n",
       "}\n",
       "</style><div id=\"sk-container-id-1\" class=\"sk-top-container\"><div class=\"sk-text-repr-fallback\"><pre>LogisticRegression(C=1.0, class_weight=&#x27;balanced&#x27;, dual=False,\n",
       "                   fit_intercept=True, intercept_scaling=1, l1_ratio=None,\n",
       "                   max_iter=1000, multi_class=&#x27;auto&#x27;, n_jobs=None, penalty=&#x27;l2&#x27;,\n",
       "                   random_state=None, solver=&#x27;lbfgs&#x27;, tol=0.0001, verbose=0,\n",
       "                   warm_start=False)</pre><b>In a Jupyter environment, please rerun this cell to show the HTML representation or trust the notebook. <br />On GitHub, the HTML representation is unable to render, please try loading this page with nbviewer.org.</b></div><div class=\"sk-container\" hidden><div class=\"sk-item\"><div class=\"sk-estimator fitted sk-toggleable\"><input class=\"sk-toggleable__control sk-hidden--visually\" id=\"sk-estimator-id-1\" type=\"checkbox\" checked><label for=\"sk-estimator-id-1\" class=\"sk-toggleable__label fitted sk-toggleable__label-arrow fitted\">&nbsp;&nbsp;LogisticRegression<a class=\"sk-estimator-doc-link fitted\" rel=\"noreferrer\" target=\"_blank\" href=\"https://scikit-learn.org/1.4/modules/generated/sklearn.linear_model.LogisticRegression.html\">?<span>Documentation for LogisticRegression</span></a><span class=\"sk-estimator-doc-link fitted\">i<span>Fitted</span></span></label><div class=\"sk-toggleable__content fitted\"><pre>LogisticRegression(C=1.0, class_weight=&#x27;balanced&#x27;, dual=False,\n",
       "                   fit_intercept=True, intercept_scaling=1, l1_ratio=None,\n",
       "                   max_iter=1000, multi_class=&#x27;auto&#x27;, n_jobs=None, penalty=&#x27;l2&#x27;,\n",
       "                   random_state=None, solver=&#x27;lbfgs&#x27;, tol=0.0001, verbose=0,\n",
       "                   warm_start=False)</pre></div> </div></div></div></div>"
      ],
      "text/plain": [
       "LogisticRegression(C=1.0, class_weight='balanced', dual=False,\n",
       "                   fit_intercept=True, intercept_scaling=1, l1_ratio=None,\n",
       "                   max_iter=1000, multi_class='auto', n_jobs=None, penalty='l2',\n",
       "                   random_state=None, solver='lbfgs', tol=0.0001, verbose=0,\n",
       "                   warm_start=False)"
      ]
     },
     "execution_count": 31,
     "metadata": {},
     "output_type": "execute_result"
    }
   ],
   "source": [
    "# Final model training (class-weighted Logistic Regression)\n",
    "from sklearn.linear_model import LogisticRegression\n",
    "\n",
    "final_model = LogisticRegression(max_iter=1000, class_weight='balanced')\n",
    "final_model.fit(X_train, y_train)\n"
   ]
  },
  {
   "cell_type": "markdown",
   "id": "4487ba95",
   "metadata": {},
   "source": [
    "# 9. Evaluate Final Model\n",
    "---"
   ]
  },
  {
   "cell_type": "code",
   "execution_count": 32,
   "id": "cb19d16d",
   "metadata": {},
   "outputs": [
    {
     "name": "stdout",
     "output_type": "stream",
     "text": [
      "Classification Report:\n",
      "              precision    recall  f1-score   support\n",
      "\n",
      "    negative       0.85      0.89      0.87       249\n",
      "     neutral       0.64      0.64      0.64        89\n",
      "    positive       0.46      0.33      0.39        36\n",
      "\n",
      "    accuracy                           0.78       374\n",
      "   macro avg       0.65      0.62      0.63       374\n",
      "weighted avg       0.76      0.78      0.77       374\n",
      "\n"
     ]
    },
    {
     "data": {
      "image/png": "[encoded data removed]",
      "text/plain": [
       "<Figure size 800x550 with 2 Axes>"
      ]
     },
     "metadata": {},
     "output_type": "display_data"
    }
   ],
   "source": [
    "print(\"Classification Report:\")\n",
    "print(classification_report(y_test, y_pred))\n",
    "\n",
    "cm = confusion_matrix(y_test, y_pred, labels=final_model.classes_)\n",
    "sns.heatmap(cm, annot=True, fmt='d', cmap='Blues', xticklabels=final_model.classes_, yticklabels=final_model.classes_)\n",
    "plt.title('Confusion Matrix')\n",
    "plt.xlabel('Predicted')\n",
    "plt.ylabel('Actual')\n",
    "plt.show()"
   ]
  },
  {
   "cell_type": "markdown",
   "id": "f1dfdee7",
   "metadata": {},
   "source": [
    "# 10. Save Model and Vectorizer\n",
    "---"
   ]
  },
  {
   "cell_type": "code",
   "execution_count": 33,
   "id": "a8fc717e",
   "metadata": {},
   "outputs": [],
   "source": [
    "import pickle\n",
    "\n",
    "# Save model\n",
    "with open('final_model.pkl', 'wb') as f:\n",
    "    pickle.dump(final_model, f)\n",
    "\n",
    "# Save TF-IDF vectorizer\n",
    "with open('tfidf_vectorizer.pkl', 'wb') as f:\n",
    "    pickle.dump(vectorizer, f)"
   ]
  },
  {
   "cell_type": "markdown",
   "id": "12bbbddb",
   "metadata": {},
   "source": [
    "# 11. Save Function that used\n",
    "---"
   ]
  },
  {
   "cell_type": "code",
   "execution_count": 34,
   "id": "284e1f7c",
   "metadata": {},
   "outputs": [],
   "source": [
    "# save stop_words \n",
    "import pickle\n",
    "\n",
    "with open('stopwords_id.pkl', 'wb') as f:\n",
    "    pickle.dump(stop_words, f)"
   ]
  }
 ],
 "metadata": {
  "kernelspec": {
   "display_name": "Python 3",
   "language": "python",
   "name": "python3"
  },
  "language_info": {
   "codemirror_mode": {
    "name": "ipython",
    "version": 3
   },
   "file_extension": ".py",
   "mimetype": "text/x-python",
   "name": "python",
   "nbconvert_exporter": "python",
   "pygments_lexer": "ipython3",
   "version": "3.11.8"
  }
 },
 "nbformat": 4,
 "nbformat_minor": 5
}
