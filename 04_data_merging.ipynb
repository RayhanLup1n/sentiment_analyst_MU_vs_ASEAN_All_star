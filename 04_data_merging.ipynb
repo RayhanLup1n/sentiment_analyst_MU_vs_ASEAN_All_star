{
 "cells": [
  {
   "cell_type": "code",
   "execution_count": 13,
   "id": "21a803b5",
   "metadata": {},
   "outputs": [],
   "source": [
    "import pandas as pd\n",
    "\n",
    "# Load all CSV files that already cleaned\n",
    "news_comments = pd.read_csv('../data/cleaned/news_comments_clean.csv', encoding='utf-8', delimiter=',')\n",
    "youtube_comments = pd.read_csv('../data/cleaned/youtube_comments_clean.csv', encoding='utf-8', delimiter=',')\n",
    "tiktok_comments = pd.read_csv('../data/cleaned/tiktok_comments_clean.csv', encoding='utf-8', delimiter=',')"
   ]
  },
  {
   "cell_type": "code",
   "execution_count": 15,
   "id": "6f3fb5bc",
   "metadata": {},
   "outputs": [
    {
     "name": "stdout",
     "output_type": "stream",
     "text": [
      "✅ Merging data completed successfully. File 'all_comments_for_labeling.csv' created.\n"
     ]
    }
   ],
   "source": [
    "# 🔧 Function to safely clean columns before processing\n",
    "def clean_columns(df):\n",
    "    # Remove unnamed columns (index column after to_csv)\n",
    "    df = df.loc[:, ~df.columns.str.contains('^Unnamed')]\n",
    "    # Remove duplicated columns\n",
    "    df = df.loc[:, ~df.columns.duplicated()]\n",
    "    return df\n",
    "\n",
    "# 🔧 Apply column cleaning to all dataframes\n",
    "news_comments = clean_columns(news_comments)\n",
    "youtube_comments = clean_columns(youtube_comments)\n",
    "tiktok_comments = clean_columns(tiktok_comments)\n",
    "\n",
    "# insert a new column 'source' to identify the source of the comments\n",
    "news_comments['source'] = 'news'\n",
    "youtube_comments['source'] = 'youtube'\n",
    "tiktok_comments['source'] = 'tiktok'\n",
    "\n",
    "# 🔧 Rename 'clean_text' column into 'comment' if exists\n",
    "if 'clean_text' in news_comments.columns:\n",
    "    news_comments = news_comments.rename(columns={'clean_text': 'comment'})\n",
    "if 'clean_text' in youtube_comments.columns:\n",
    "    youtube_comments = youtube_comments.rename(columns={'clean_text': 'comment'})\n",
    "if 'clean_text' in tiktok_comments.columns:\n",
    "    tiktok_comments = tiktok_comments.rename(columns={'clean_text': 'comment'})\n",
    "\n",
    "# 📌 Keep only 'comment' and 'source' columns\n",
    "news_comments = news_comments[['comment', 'source']]\n",
    "youtube_comments = youtube_comments[['comment', 'source']]\n",
    "tiktok_comments = tiktok_comments[['comment', 'source']]\n",
    "\n",
    "# 🔗 Concatenate all datasets safely\n",
    "all_comments = pd.concat([news_comments, youtube_comments, tiktok_comments], ignore_index=True)\n",
    "\n",
    "# 🔀 Shuffle dataset\n",
    "all_comments = all_comments.sample(frac=1, random_state=42).reset_index(drop=True)\n",
    "\n",
    "# Save the combined DataFrame to a new CSV file\n",
    "#all_comments.to_csv('../data/all_comments_for_labeling.csv', index=False)\n",
    "\n",
    "\n",
    "print(\"✅ Merging data completed successfully. File 'all_comments_for_labeling.csv' created.\")"
   ]
  }
 ],
 "metadata": {
  "kernelspec": {
   "display_name": "Python 3",
   "language": "python",
   "name": "python3"
  },
  "language_info": {
   "codemirror_mode": {
    "name": "ipython",
    "version": 3
   },
   "file_extension": ".py",
   "mimetype": "text/x-python",
   "name": "python",
   "nbconvert_exporter": "python",
   "pygments_lexer": "ipython3",
   "version": "3.13.4"
  }
 },
 "nbformat": 4,
 "nbformat_minor": 5
}
