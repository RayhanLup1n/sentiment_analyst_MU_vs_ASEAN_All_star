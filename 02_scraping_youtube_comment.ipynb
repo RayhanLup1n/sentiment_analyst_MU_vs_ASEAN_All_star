{
 "cells": [
  {
   "cell_type": "code",
   "execution_count": 1,
   "id": "a2ce4157",
   "metadata": {},
   "outputs": [],
   "source": [
    "#!pip install google-api-python-client"
   ]
  },
  {
   "cell_type": "code",
   "execution_count": 3,
   "id": "93ef6235",
   "metadata": {},
   "outputs": [],
   "source": [
    "import os\n",
    "from dotenv import load_dotenv\n",
    "from googleapiclient.discovery import build\n",
    "import pandas as pd\n",
    "\n",
    "load_dotenv()\n",
    "API_KEY = os.getenv(\"YOUTUBE_API_KEY\")\n",
    "\n",
    "youtube = build(\n",
    "    serviceName='youtube',\n",
    "    version='v3',\n",
    "    developerKey=API_KEY,\n",
    "    static_discovery=True\n",
    ")\n",
    "\n",
    "def get_video_comments(video_id, max_comments=1000):\n",
    "    comments = []\n",
    "    next_page_token = None\n",
    "    count = 0\n",
    "\n",
    "    while True:\n",
    "        response = youtube.commentThreads().list(\n",
    "            part='snippet,replies',\n",
    "            videoId=video_id,\n",
    "            pageToken=next_page_token,\n",
    "            maxResults=100,\n",
    "            textFormat=\"plainText\"\n",
    "        ).execute()\n",
    "\n",
    "        for item in response.get('items', []):\n",
    "            snippet = item['snippet']['topLevelComment']['snippet']\n",
    "            comment = {\n",
    "                'video_id': video_id,\n",
    "                'author': snippet.get('authorDisplayName'),\n",
    "                'comment': snippet.get('textDisplay'),\n",
    "                'like_count': snippet.get('likeCount'),\n",
    "                'published_at': snippet.get('publishedAt'),\n",
    "                'type': 'parent'\n",
    "            }\n",
    "            comments.append(comment)\n",
    "            count += 1\n",
    "\n",
    "            # Tambahkan balasan jika ada\n",
    "            replies = item.get('replies', {}).get('comments', [])\n",
    "            for reply in replies:\n",
    "                reply_snippet = reply['snippet']\n",
    "                reply_comment = {\n",
    "                    'video_id': video_id,\n",
    "                    'author': reply_snippet.get('authorDisplayName'),\n",
    "                    'comment': reply_snippet.get('textDisplay'),\n",
    "                    'like_count': reply_snippet.get('likeCount'),\n",
    "                    'published_at': reply_snippet.get('publishedAt'),\n",
    "                    'type': 'reply'\n",
    "                }\n",
    "                comments.append(reply_comment)\n",
    "                count += 1\n",
    "\n",
    "            if count >= max_comments:\n",
    "                break\n",
    "\n",
    "        if 'nextPageToken' in response and count < max_comments:\n",
    "            next_page_token = response['nextPageToken']\n",
    "        else:\n",
    "            break\n",
    "\n",
    "    return pd.DataFrame(comments)\n"
   ]
  },
  {
   "cell_type": "code",
   "execution_count": 5,
   "id": "332a4442",
   "metadata": {},
   "outputs": [
    {
     "name": "stdout",
     "output_type": "stream",
     "text": [
      "hFIMNthZ6ow: 405 comments (including replies)\n",
      "NYS5HSUVdz8: 1000 comments (including replies)\n",
      "8p-pFSN17n0: 9 comments (including replies)\n"
     ]
    },
    {
     "data": {
      "application/vnd.microsoft.datawrangler.viewer.v0+json": {
       "columns": [
        {
         "name": "index",
         "rawType": "int64",
         "type": "integer"
        },
        {
         "name": "video_id",
         "rawType": "object",
         "type": "string"
        },
        {
         "name": "author",
         "rawType": "object",
         "type": "string"
        },
        {
         "name": "comment",
         "rawType": "object",
         "type": "string"
        },
        {
         "name": "like_count",
         "rawType": "int64",
         "type": "integer"
        },
        {
         "name": "published_at",
         "rawType": "object",
         "type": "string"
        },
        {
         "name": "type",
         "rawType": "object",
         "type": "string"
        }
       ],
       "ref": "22799de9-06f7-464a-9f0d-e5a142c52505",
       "rows": [
        [
         "0",
         "hFIMNthZ6ow",
         "@월드클래스K",
         "Hello, can we use your video for our broadcast? We'll make sure to credit the source.",
         "0",
         "2025-05-31T12:39:52Z",
         "parent"
        ],
        [
         "1",
         "hFIMNthZ6ow",
         "@OjolPalembang",
         "MU sudah tim biasa saja..",
         "0",
         "2025-05-31T06:31:40Z",
         "parent"
        ],
        [
         "2",
         "hFIMNthZ6ow",
         "@herlanbangofficial3753",
         "Hal yg paling qw tunggu laga antara Asean all star vs MU adalah atraksi koreografi yg dapat disuguhkan fans Malaysia. NAMUN, gga ada koreografi yg bisa ditampilkan. Fans Malaydes haya omong kosong doang merasa koreografinya paling hebat. Ternyata cuma segitu doang.😂😂😂",
         "0",
         "2025-05-31T06:17:40Z",
         "parent"
        ],
        [
         "3",
         "hFIMNthZ6ow",
         "@KancilPutra-yu2jv",
         "Semenjak legend owen ,neved roony ,dan pan persi Sterling,sampai sekarang Macester united kehilangan permainan ya",
         "0",
         "2025-05-31T01:41:38Z",
         "parent"
        ],
        [
         "4",
         "hFIMNthZ6ow",
         "@medroastt9888",
         "luaar biasa emyu cuma kalah 1-0 😜",
         "0",
         "2025-05-31T00:42:47Z",
         "parent"
        ]
       ],
       "shape": {
        "columns": 6,
        "rows": 5
       }
      },
      "text/html": [
       "<div>\n",
       "<style scoped>\n",
       "    .dataframe tbody tr th:only-of-type {\n",
       "        vertical-align: middle;\n",
       "    }\n",
       "\n",
       "    .dataframe tbody tr th {\n",
       "        vertical-align: top;\n",
       "    }\n",
       "\n",
       "    .dataframe thead th {\n",
       "        text-align: right;\n",
       "    }\n",
       "</style>\n",
       "<table border=\"1\" class=\"dataframe\">\n",
       "  <thead>\n",
       "    <tr style=\"text-align: right;\">\n",
       "      <th></th>\n",
       "      <th>video_id</th>\n",
       "      <th>author</th>\n",
       "      <th>comment</th>\n",
       "      <th>like_count</th>\n",
       "      <th>published_at</th>\n",
       "      <th>type</th>\n",
       "    </tr>\n",
       "  </thead>\n",
       "  <tbody>\n",
       "    <tr>\n",
       "      <th>0</th>\n",
       "      <td>hFIMNthZ6ow</td>\n",
       "      <td>@월드클래스K</td>\n",
       "      <td>Hello, can we use your video for our broadcast...</td>\n",
       "      <td>0</td>\n",
       "      <td>2025-05-31T12:39:52Z</td>\n",
       "      <td>parent</td>\n",
       "    </tr>\n",
       "    <tr>\n",
       "      <th>1</th>\n",
       "      <td>hFIMNthZ6ow</td>\n",
       "      <td>@OjolPalembang</td>\n",
       "      <td>MU sudah tim biasa saja..</td>\n",
       "      <td>0</td>\n",
       "      <td>2025-05-31T06:31:40Z</td>\n",
       "      <td>parent</td>\n",
       "    </tr>\n",
       "    <tr>\n",
       "      <th>2</th>\n",
       "      <td>hFIMNthZ6ow</td>\n",
       "      <td>@herlanbangofficial3753</td>\n",
       "      <td>Hal yg paling qw tunggu laga antara Asean all ...</td>\n",
       "      <td>0</td>\n",
       "      <td>2025-05-31T06:17:40Z</td>\n",
       "      <td>parent</td>\n",
       "    </tr>\n",
       "    <tr>\n",
       "      <th>3</th>\n",
       "      <td>hFIMNthZ6ow</td>\n",
       "      <td>@KancilPutra-yu2jv</td>\n",
       "      <td>Semenjak legend owen ,neved roony ,dan pan per...</td>\n",
       "      <td>0</td>\n",
       "      <td>2025-05-31T01:41:38Z</td>\n",
       "      <td>parent</td>\n",
       "    </tr>\n",
       "    <tr>\n",
       "      <th>4</th>\n",
       "      <td>hFIMNthZ6ow</td>\n",
       "      <td>@medroastt9888</td>\n",
       "      <td>luaar biasa emyu cuma kalah 1-0 😜</td>\n",
       "      <td>0</td>\n",
       "      <td>2025-05-31T00:42:47Z</td>\n",
       "      <td>parent</td>\n",
       "    </tr>\n",
       "  </tbody>\n",
       "</table>\n",
       "</div>"
      ],
      "text/plain": [
       "      video_id                   author  \\\n",
       "0  hFIMNthZ6ow                  @월드클래스K   \n",
       "1  hFIMNthZ6ow           @OjolPalembang   \n",
       "2  hFIMNthZ6ow  @herlanbangofficial3753   \n",
       "3  hFIMNthZ6ow       @KancilPutra-yu2jv   \n",
       "4  hFIMNthZ6ow           @medroastt9888   \n",
       "\n",
       "                                             comment  like_count  \\\n",
       "0  Hello, can we use your video for our broadcast...           0   \n",
       "1                          MU sudah tim biasa saja..           0   \n",
       "2  Hal yg paling qw tunggu laga antara Asean all ...           0   \n",
       "3  Semenjak legend owen ,neved roony ,dan pan per...           0   \n",
       "4                  luaar biasa emyu cuma kalah 1-0 😜           0   \n",
       "\n",
       "           published_at    type  \n",
       "0  2025-05-31T12:39:52Z  parent  \n",
       "1  2025-05-31T06:31:40Z  parent  \n",
       "2  2025-05-31T06:17:40Z  parent  \n",
       "3  2025-05-31T01:41:38Z  parent  \n",
       "4  2025-05-31T00:42:47Z  parent  "
      ]
     },
     "execution_count": 5,
     "metadata": {},
     "output_type": "execute_result"
    }
   ],
   "source": [
    "video_ids = ['hFIMNthZ6ow', 'NYS5HSUVdz8', '8p-pFSN17n0']\n",
    "all_comments_df = pd.DataFrame()\n",
    "\n",
    "for vid in video_ids:\n",
    "    df = get_video_comments(vid, max_comments=1000)\n",
    "    print(f\"{vid}: {len(df)} comments (including replies)\")\n",
    "    all_comments_df = pd.concat([all_comments_df, df], ignore_index=True)\n",
    "\n",
    "all_comments_df.head()"
   ]
  },
  {
   "cell_type": "code",
   "execution_count": null,
   "id": "ca13aa2c",
   "metadata": {},
   "outputs": [],
   "source": [
    "#all_comments_df.to_csv('../data/raw/youtube_comments.csv', index=False)"
   ]
  }
 ],
 "metadata": {
  "kernelspec": {
   "display_name": "base",
   "language": "python",
   "name": "python3"
  },
  "language_info": {
   "codemirror_mode": {
    "name": "ipython",
    "version": 3
   },
   "file_extension": ".py",
   "mimetype": "text/x-python",
   "name": "python",
   "nbconvert_exporter": "python",
   "pygments_lexer": "ipython3",
   "version": "3.11.5"
  }
 },
 "nbformat": 4,
 "nbformat_minor": 5
}
