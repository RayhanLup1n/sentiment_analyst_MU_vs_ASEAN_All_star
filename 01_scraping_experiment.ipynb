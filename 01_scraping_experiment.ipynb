{
 "cells": [
  {
   "cell_type": "markdown",
   "id": "90a769ba",
   "metadata": {},
   "source": [
    "# 🧹 Web Scraping News: MU's defeat vs ASEAN All Stars\n",
    "\n",
    "***"
   ]
  },
  {
   "cell_type": "markdown",
   "id": "f2524a6a",
   "metadata": {},
   "source": [
    "## 🛠️ Import Library"
   ]
  },
  {
   "cell_type": "code",
   "execution_count": 1,
   "id": "dc2e6dda",
   "metadata": {},
   "outputs": [],
   "source": [
    "#!pip install selenium"
   ]
  },
  {
   "cell_type": "code",
   "execution_count": 2,
   "id": "9c27b73d",
   "metadata": {},
   "outputs": [],
   "source": [
    "#!pip install requests beautifulsoup4"
   ]
  },
  {
   "cell_type": "code",
   "execution_count": 3,
   "id": "2abdab7a",
   "metadata": {},
   "outputs": [],
   "source": [
    "import requests\n",
    "from bs4 import BeautifulSoup\n",
    "import pandas as pd"
   ]
  },
  {
   "cell_type": "markdown",
   "id": "d5152910",
   "metadata": {},
   "source": [
    "## 📌 Scraping Function from Detik"
   ]
  },
  {
   "cell_type": "code",
   "execution_count": 4,
   "id": "14123a29",
   "metadata": {},
   "outputs": [],
   "source": [
    "import requests\n",
    "from bs4 import BeautifulSoup\n",
    "\n",
    "def scrape_detik(url):\n",
    "    response = requests.get(url)\n",
    "    soup = BeautifulSoup(response.content, 'html.parser')\n",
    "\n",
    "    title = soup.find('h1').text.strip() if soup.find('h1') else 'Tidak ditemukan'\n",
    "    date = soup.find('div', class_='detail__date').text.strip() if soup.find('div', class_='detail__date') else 'Tidak ditemukan'\n",
    "    content_tag = soup.find('div', class_='detail__body-text')\n",
    "    content = content_tag.get_text(separator='\\n').strip() if content_tag else 'Tidak ditemukan'\n",
    "\n",
    "    return {'title': title, 'date': date, 'content': content}"
   ]
  },
  {
   "cell_type": "markdown",
   "id": "8a13fcaf",
   "metadata": {},
   "source": [
    "## 📌 Scraping Function From Kompas"
   ]
  },
  {
   "cell_type": "code",
   "execution_count": 5,
   "id": "c1a92397",
   "metadata": {},
   "outputs": [],
   "source": [
    "from selenium import webdriver\n",
    "from selenium.webdriver.chrome.options import Options\n",
    "from selenium.webdriver.chrome.service import Service\n",
    "from webdriver_manager.chrome import ChromeDriverManager\n",
    "from bs4 import BeautifulSoup\n",
    "import time\n",
    "\n",
    "def scrape_kompas(url, headless=True):\n",
    "    options = Options()\n",
    "    if headless:\n",
    "        options.add_argument('--headless')\n",
    "        options.add_argument('--disable-gpu')\n",
    "    options.add_argument('--no-sandbox')\n",
    "    options.add_argument('--disable-dev-shm-usage')\n",
    "\n",
    "    service = Service(ChromeDriverManager().install())\n",
    "    driver = webdriver.Chrome(service=service, options=options)\n",
    "\n",
    "    try:\n",
    "        driver.get(url)\n",
    "        time.sleep(3)  # Tambahkan waktu tunggu\n",
    "\n",
    "        soup = BeautifulSoup(driver.page_source, 'html.parser')\n",
    "\n",
    "        title = soup.find('h1').text.strip() if soup.find('h1') else 'Tidak ditemukan'\n",
    "        date = soup.find('div', class_='read__time').text.strip() if soup.find('div', class_='read__time') else 'Tidak ditemukan'\n",
    "        content_tag = soup.find('div', class_='read__content')\n",
    "        content = content_tag.get_text(separator='\\n').strip() if content_tag else 'Tidak ditemukan'\n",
    "    finally:\n",
    "        driver.quit()\n",
    "\n",
    "    return {'title': title, 'date': date, 'content': content}"
   ]
  },
  {
   "cell_type": "markdown",
   "id": "5f58f114",
   "metadata": {},
   "source": [
    "## 📌 Scraping Function from Okezone"
   ]
  },
  {
   "cell_type": "code",
   "execution_count": 6,
   "id": "f5fc65b5",
   "metadata": {},
   "outputs": [],
   "source": [
    "from selenium import webdriver\n",
    "from selenium.webdriver.chrome.options import Options\n",
    "from selenium.webdriver.chrome.service import Service\n",
    "from webdriver_manager.chrome import ChromeDriverManager\n",
    "from bs4 import BeautifulSoup\n",
    "import time\n",
    "\n",
    "def scrape_okezone(url, headless=True):\n",
    "    options = Options()\n",
    "    if headless:\n",
    "        options.add_argument('--headless')\n",
    "        options.add_argument('--disable-gpu')\n",
    "    options.add_argument('--no-sandbox')\n",
    "    options.add_argument('--disable-dev-shm-usage')\n",
    "\n",
    "    service = Service(ChromeDriverManager().install())\n",
    "    driver = webdriver.Chrome(service=service, options=options)\n",
    "\n",
    "    try:\n",
    "        driver.get(url)\n",
    "        time.sleep(3)\n",
    "\n",
    "        soup = BeautifulSoup(driver.page_source, 'html.parser')\n",
    "\n",
    "        title = soup.find('h1').text.strip() if soup.find('h1') else 'Tidak ditemukan'\n",
    "        date = soup.find('li', class_='date').text.strip() if soup.find('li', class_='date') else 'Tidak ditemukan'\n",
    "        content_tag = soup.find('div', class_='news-content')\n",
    "        content = content_tag.get_text(separator='\\n').strip() if content_tag else 'Tidak ditemukan'\n",
    "    finally:\n",
    "        driver.quit()\n",
    "\n",
    "    return {'title': title, 'date': date, 'content': content}"
   ]
  },
  {
   "cell_type": "markdown",
   "id": "59ae32ff",
   "metadata": {},
   "source": [
    "## 📌 Scraping Function from CNN Indonesia"
   ]
  },
  {
   "cell_type": "code",
   "execution_count": 7,
   "id": "2cec1242",
   "metadata": {},
   "outputs": [],
   "source": [
    "import requests\n",
    "from bs4 import BeautifulSoup\n",
    "\n",
    "def scrape_cnnindonesia(url):\n",
    "    response = requests.get(url)\n",
    "    soup = BeautifulSoup(response.content, 'html.parser')\n",
    "\n",
    "    title = soup.find('h1').text.strip() if soup.find('h1') else 'Tidak ditemukan'\n",
    "    date = soup.find('div', class_='text-cnn_grey').text.strip() if soup.find('div', class_='text-cnn_grey') else 'Tidak ditemukan'\n",
    "    content_tag = soup.find('div', class_='detail-text')\n",
    "    content = content_tag.get_text(separator='\\n').strip() if content_tag else 'Tidak ditemukan'\n",
    "\n",
    "    return {'title': title, 'date': date, 'content': content}"
   ]
  },
  {
   "cell_type": "markdown",
   "id": "a4366676",
   "metadata": {},
   "source": [
    "## 📌 Scraping Function from Suara Kalbar"
   ]
  },
  {
   "cell_type": "code",
   "execution_count": 8,
   "id": "a4296aa6",
   "metadata": {},
   "outputs": [],
   "source": [
    "import requests\n",
    "from bs4 import BeautifulSoup\n",
    "\n",
    "def scrape_suarakalbar(url):\n",
    "    response = requests.get(url)\n",
    "    soup = BeautifulSoup(response.content, 'html.parser')\n",
    "\n",
    "    title = soup.find('h1').text.strip() if soup.find('h1') else 'Tidak ditemukan'\n",
    "    date = soup.find('time').text.strip() if soup.find('time') else 'Tidak ditemukan'\n",
    "    content_tag = soup.find('div', class_='td-post-content tagdiv-type')\n",
    "    content = content_tag.get_text(separator='\\n').strip() if content_tag else 'Tidak ditemukan'\n",
    "\n",
    "    return {'title': title, 'date': date, 'content': content}"
   ]
  },
  {
   "cell_type": "markdown",
   "id": "adbe752d",
   "metadata": {},
   "source": [
    "## 🧪 Test Scraping Function"
   ]
  },
  {
   "cell_type": "code",
   "execution_count": 9,
   "id": "92e2b93a",
   "metadata": {},
   "outputs": [],
   "source": [
    "urls = [\n",
    "    \"https://sport.detik.com/sepakbola/liga-inggris/d-7938117/asean-all-stars-vs-mu-setan-merah-kalah-0-1\",\n",
    "    \"https://www.kompas.com/sports/read/2025/05/28/22233688/skor-asean-all-stars-vs-man-united-1-0-mu-menanggung-malu-di-bukit-jalil\",\n",
    "    \"https://bola.okezone.com/read/2025/05/28/51/3142856/hasil-asean-all-stars-vs-manchester-united-setan-merah-kalah-0-1\",\n",
    "    \"https://www.cnnindonesia.com/olahraga/20250528213751-142-1234366/asean-all-stars-hajar-manchester-united\",\n",
    "    \"https://www.suarakalbar.co.id/2025/05/asean-all-star-kejutkan-manchester-united-1-0-dua-pemain-indonesia-turun-berlaga/\"\n",
    "]\n",
    "\n",
    "articles = []"
   ]
  },
  {
   "cell_type": "code",
   "execution_count": 10,
   "id": "eeff79aa",
   "metadata": {},
   "outputs": [],
   "source": [
    "for url in urls:\n",
    "    try:\n",
    "        if 'kompas' in url:\n",
    "            result = scrape_kompas(url)\n",
    "        elif 'okezone' in url:\n",
    "            result = scrape_okezone(url)\n",
    "        elif 'cnnindonesia' in url:\n",
    "            result = scrape_cnnindonesia(url)\n",
    "        elif 'suarakalbar' in url:\n",
    "            result = scrape_suarakalbar(url)\n",
    "        elif 'detik' in url:\n",
    "            result = scrape_detik(url)\n",
    "        else:\n",
    "            print(f\"[!] URL tidak dikenali: {url}\")\n",
    "            continue\n",
    "\n",
    "        result['source'] = url.split('/')[2]\n",
    "        result['url'] = url\n",
    "        articles.append(result)\n",
    "\n",
    "    except Exception as e:\n",
    "        print(f\"[!] Gagal scrape {url}:\\n\", e)"
   ]
  },
  {
   "cell_type": "code",
   "execution_count": 11,
   "id": "29fe1bcf",
   "metadata": {},
   "outputs": [
    {
     "data": {
      "application/vnd.microsoft.datawrangler.viewer.v0+json": {
       "columns": [
        {
         "name": "index",
         "rawType": "int64",
         "type": "integer"
        },
        {
         "name": "title",
         "rawType": "object",
         "type": "string"
        },
        {
         "name": "date",
         "rawType": "object",
         "type": "string"
        },
        {
         "name": "content",
         "rawType": "object",
         "type": "string"
        },
        {
         "name": "source",
         "rawType": "object",
         "type": "string"
        },
        {
         "name": "url",
         "rawType": "object",
         "type": "string"
        }
       ],
       "ref": "fa77fe1f-7004-4c3a-b378-ff0918d9f17d",
       "rows": [
        [
         "0",
         "ASEAN All Stars Vs MU: Setan Merah Kalah 0-1",
         "Rabu, 28 Mei  2025 21:43 WIB",
         "Kuala Lumpur\n - \nManchester United\n memulai tur pramusim di Malaysia untuk melawan \nASEAN All Stars\n. Setan Merah harus menelan kekalahan di laga ini.\nASEAN All Stars vs Manchester United berlangsung di Stadion Bukit Jalil, Malaysia, Rabu (28/5/2025) malam WIB. Pasukan Ruben Amorim menyerah 0-1.\nMan United berjuang keras untuk menembus lima pemain bertahan ASEAN All Stars di 15 menit awal. Kerumunan di barisan belakang membuat MU kesulitan menciptakan ancaman.\n\n\n\n\n\n\n\n\n\n\n\n\n\n\n\n\n\n\n\n\n\n\n\n\n\n\n\n\n\n\n\n\n\n\n\r\nSCROLL TO CONTINUE WITH CONTENT\r\n\n\n\nNguyen Hai Long dari ASEAN All Stars mengancam MU di menit ke-17. Dia melepaskan tembakan dari jarak jauh dan cuma menghasilkan sepak pojok.\nCasemiro mencoba melepaskan tembakan di menit ke-22. Namun, bola dari percobaannya itu belum mengarah ke gawang.\n\n\n\r\nADVERTISEMENT\r\n\n\n\n\n\n\n\n\n\n\n\n\n\n\n\nASEAN All Stars melancarkan serangan balik di menit ke-26. Sandro Reyes melepaskan tembakan yang berhasil ditepis.\nSandro Reyes hampir membobol gawang MU. Dia melepaskan tembakan mendatar yang bisa dibendung kiper Andre Onana di menit ke-28.\nBaca juga: \nAmorim Tak Mau MU Kehilangan Bruno Fernandes\nMU belum terlihat mampu berbuat banyak untuk membongkar pertahanan lawan. Kobbie Mainoo sampai harus mencoba dengan tembakan jarak jauh di menit ke-35.\nKedua tim tak mampu mencetak gol di babak pertama. Alhasil, skor 0-0 bertahan sampai turun minum.\nASEAN All Stars tampak lebih sedikit mendominasi di 10 menit awal babak kedua. Tim besutan Kim Sang-sik juga menerapkan garis pertahanan yang tinggi.\nSampai laga berjalan satu jam, belum juga tercipta gol. Tempo pertandingan juga berjalan lambat.\nASEAN All Stars berhasil memimpin 1-0 di menit ke-71. Maung Maung Lwin membobol gawang Tom Heaton setelah memanfaatkan umpan terobosan.\nMU tampak hilang akal dalam melancarkan serangan. Tim asal Inggris itu sangat sulit membuat peluang. Alhasil, MU menyerah 0-1.\nBaca juga: \nKakang Rudianto Perkuat ASEAN All Stars, Berharap Main dan Kalahkan MU\nSusunan Pemain:\nMan United: Onana (Heaton 46'); Munro, Maguire (Armer 32'), Heaven, Dalot (Kamason 32'); Casemiro (Kone 32'), Ugarte, Dorgu, Moorhouse (Lacey 32') (Garnacho 46'), Mainoo (Fernandes 46'); Hojlund (Obi-Martin 46')\nASEAN All Stars: Khammai; Kan, Aguinaldo (Irfan 46') (Kakang 68'), Delbridge, Adamson (Ra'op 39'); Aguero, Reyes (Hoang Duc 46'), Lambert (Azmi 46'); Kader (Bounkong 39') (Maung Maung Lwin 54'), Hai Long, Yaya.\n \n\n\n\n\n\n\n\n\n\n\n\n\n\n\n\n\n\n\n\n\n\r\n                Video: Musim MU Tak Akan Terselamatkan Meski Juarai Liga Europa            \n\n\n\n\n\n\n\n\n\n\n\n\n\n\n\n\n\n\n\n\n\n\n\n\n\n\n\n\n\n\n\n\n\n\n\n\n\n\n\n\n\n\n\n\n\r\n                            Video: Musim MU Tak Akan Terselamatkan Meski Juarai Liga Europa                        \n\n\n\n\n\n\n\n\n\n\n\n\n\n\n\n\n\n\n(ran/raw)\n\n\n\n\n\n\nmanchester united\n \nasean all stars",
         "sport.detik.com",
         "https://sport.detik.com/sepakbola/liga-inggris/d-7938117/asean-all-stars-vs-mu-setan-merah-kalah-0-1"
        ],
        [
         "1",
         "403 ERROR",
         "Tidak ditemukan",
         "Tidak ditemukan",
         "www.kompas.com",
         "https://www.kompas.com/sports/read/2025/05/28/22233688/skor-asean-all-stars-vs-man-united-1-0-mu-menanggung-malu-di-bukit-jalil"
        ],
        [
         "2",
         "Hasil ASEAN All Stars vs Manchester United: Setan Merah Kalah 0-1!",
         "Tidak ditemukan",
         "Tidak ditemukan",
         "bola.okezone.com",
         "https://bola.okezone.com/read/2025/05/28/51/3142856/hasil-asean-all-stars-vs-manchester-united-setan-merah-kalah-0-1"
        ],
        [
         "3",
         "ASEAN All Stars Hajar Manchester United",
         "Rabu, 28 Mei 2025 21:43 WIB",
         "Jakarta, CNN Indonesia\n -- \nASEAN All Stars menang atas Manchester United dalam laga persahabatan di Stadion Bukit Jalil, Kuala Lumpur, Malaysia, Rabu (28/5) malam.\nAnak asuh Ruben Amorim cukup mendominasi penguasaan bola, namun kesulitan menciptakan peluang berarti. Bintang-bintang ASEAN kemudian membahayakan gawang Andre Onana melalui Sandro Reyes dan Nguyen Hai Long.\nHarry Maguire sempat berupaya memanfaatkan sepak pojok, namun bola masih bisa diamankan kiper Pattiwat Khammai.\n\n\n\n\n\n\n\n\n\r\nADVERTISEMENT\r\n\n\n\n\n\n\n\n\n\n\n\n\n\n\n\n\n\n\n\n\n\n\n\n\n\n\n\n\n\n\r\nSCROLL TO CONTINUE WITH CONTENT\r\n\n\n\n\n\nMemasuki menit ke-30 Amorim melakukan pergantian pemain. Maguire dan Casemiro ditarik keluar. Tanpa dua pemain tersebut, Man Utd bisa mengancam gawang lawan lewat Patrick Dorgu dan Kobie Mainoo.\nTidak ada gol hingga babak pertama berakhir. Memasuki babak kedua, MU kembali mencoba melakukan pendekatan yang sama. Tampak lebih banyak menguasai bola, namun lagi-lagi kesulitan menciptakan kans yang benar-benar membahayakan.\n\n\n\n\n\n\n\n\n\n\n\n\nKeberadaan Bruno Fernandes dan Alejandro Garnacho tampak tidak memberi pengaruh berarti. Pertahanan ASEAN All Stars tampak kukuh dan membuat Setan Merah seperti menemui jalan buntu.\nPada menit ke-68 salah satu pemain asal Indonesia, Kakang Rudianto masuk menggantikan Irfan Fandi. Pemain Persib itu turut menggalang lini belakang membendung serangan tamu.\nMemasuki menit ke-71 serangan balik ASEAN All Stars menghasilkan gol. Umpan terobosan pemain Australia Adrian Segecic bisa dituntaskan dengan baik oleh Maung Maung Lwin.\nEksekusi akhir pemain andalan Myanmar itu membuat bola tak bisa digapai kiper Tom Heaton. ASEAN All Stars memimpin 1-0.\nMU terus berupaya menyamakan kedudukan, namun selalu bertemu dengan kegagalan. Kakang Rudianto tampil disiplin di lini belakang. Sementara pemain Indonesia lainnya, Malik Risaldi masuk pada menit ke-83.\nUpaya MU mencetak gol pertama dalam laga ini tak kunjung berhasil. Sementara ASEAN All Stars punya kans melalui Segecic pada menit akhir laga yang digagalkan tekel Jonny Evans.\nHingga laga bubar skor 1-0 untuk ASEAN All Stars bertahan.\nSusunan Pemain Inti ASEAN All Stars vs Manchester United:\nASEAN All Stars: Pattiwat Khammai; Amani Aguinaldo, Kan Mo, Harrison Delbridge; Adamson, Sandro Reyes, Sergio Aguero, Declan Lambert; Nguyen Hai Long, Dukuly, Abdel Coulibaly.\nMan United: Onana; Munro, Maguire, Heaven; Dalot, Ugarte, Casemiro, Dorgu; Moorhouse, Mainoo; Hojlund.\n[Gambas:Video CNN]\n \n(nva/nva)",
         "www.cnnindonesia.com",
         "https://www.cnnindonesia.com/olahraga/20250528213751-142-1234366/asean-all-stars-hajar-manchester-united"
        ],
        [
         "4",
         "ASEAN All-Star Kejutkan Manchester United 1-0, Dua Pemain Indonesia Turun Berlaga",
         "Tidak ditemukan",
         "Tidak ditemukan",
         "www.suarakalbar.co.id",
         "https://www.suarakalbar.co.id/2025/05/asean-all-star-kejutkan-manchester-united-1-0-dua-pemain-indonesia-turun-berlaga/"
        ]
       ],
       "shape": {
        "columns": 5,
        "rows": 5
       }
      },
      "text/html": [
       "<div>\n",
       "<style scoped>\n",
       "    .dataframe tbody tr th:only-of-type {\n",
       "        vertical-align: middle;\n",
       "    }\n",
       "\n",
       "    .dataframe tbody tr th {\n",
       "        vertical-align: top;\n",
       "    }\n",
       "\n",
       "    .dataframe thead th {\n",
       "        text-align: right;\n",
       "    }\n",
       "</style>\n",
       "<table border=\"1\" class=\"dataframe\">\n",
       "  <thead>\n",
       "    <tr style=\"text-align: right;\">\n",
       "      <th></th>\n",
       "      <th>title</th>\n",
       "      <th>date</th>\n",
       "      <th>content</th>\n",
       "      <th>source</th>\n",
       "      <th>url</th>\n",
       "    </tr>\n",
       "  </thead>\n",
       "  <tbody>\n",
       "    <tr>\n",
       "      <th>0</th>\n",
       "      <td>ASEAN All Stars Vs MU: Setan Merah Kalah 0-1</td>\n",
       "      <td>Rabu, 28 Mei  2025 21:43 WIB</td>\n",
       "      <td>Kuala Lumpur\\n - \\nManchester United\\n memulai...</td>\n",
       "      <td>sport.detik.com</td>\n",
       "      <td>https://sport.detik.com/sepakbola/liga-inggris...</td>\n",
       "    </tr>\n",
       "    <tr>\n",
       "      <th>1</th>\n",
       "      <td>403 ERROR</td>\n",
       "      <td>Tidak ditemukan</td>\n",
       "      <td>Tidak ditemukan</td>\n",
       "      <td>www.kompas.com</td>\n",
       "      <td>https://www.kompas.com/sports/read/2025/05/28/...</td>\n",
       "    </tr>\n",
       "    <tr>\n",
       "      <th>2</th>\n",
       "      <td>Hasil ASEAN All Stars vs Manchester United: Se...</td>\n",
       "      <td>Tidak ditemukan</td>\n",
       "      <td>Tidak ditemukan</td>\n",
       "      <td>bola.okezone.com</td>\n",
       "      <td>https://bola.okezone.com/read/2025/05/28/51/31...</td>\n",
       "    </tr>\n",
       "    <tr>\n",
       "      <th>3</th>\n",
       "      <td>ASEAN All Stars Hajar Manchester United</td>\n",
       "      <td>Rabu, 28 Mei 2025 21:43 WIB</td>\n",
       "      <td>Jakarta, CNN Indonesia\\n -- \\nASEAN All Stars ...</td>\n",
       "      <td>www.cnnindonesia.com</td>\n",
       "      <td>https://www.cnnindonesia.com/olahraga/20250528...</td>\n",
       "    </tr>\n",
       "    <tr>\n",
       "      <th>4</th>\n",
       "      <td>ASEAN All-Star Kejutkan Manchester United 1-0,...</td>\n",
       "      <td>Tidak ditemukan</td>\n",
       "      <td>Tidak ditemukan</td>\n",
       "      <td>www.suarakalbar.co.id</td>\n",
       "      <td>https://www.suarakalbar.co.id/2025/05/asean-al...</td>\n",
       "    </tr>\n",
       "  </tbody>\n",
       "</table>\n",
       "</div>"
      ],
      "text/plain": [
       "                                               title  \\\n",
       "0       ASEAN All Stars Vs MU: Setan Merah Kalah 0-1   \n",
       "1                                          403 ERROR   \n",
       "2  Hasil ASEAN All Stars vs Manchester United: Se...   \n",
       "3            ASEAN All Stars Hajar Manchester United   \n",
       "4  ASEAN All-Star Kejutkan Manchester United 1-0,...   \n",
       "\n",
       "                           date  \\\n",
       "0  Rabu, 28 Mei  2025 21:43 WIB   \n",
       "1               Tidak ditemukan   \n",
       "2               Tidak ditemukan   \n",
       "3   Rabu, 28 Mei 2025 21:43 WIB   \n",
       "4               Tidak ditemukan   \n",
       "\n",
       "                                             content                 source  \\\n",
       "0  Kuala Lumpur\\n - \\nManchester United\\n memulai...        sport.detik.com   \n",
       "1                                    Tidak ditemukan         www.kompas.com   \n",
       "2                                    Tidak ditemukan       bola.okezone.com   \n",
       "3  Jakarta, CNN Indonesia\\n -- \\nASEAN All Stars ...   www.cnnindonesia.com   \n",
       "4                                    Tidak ditemukan  www.suarakalbar.co.id   \n",
       "\n",
       "                                                 url  \n",
       "0  https://sport.detik.com/sepakbola/liga-inggris...  \n",
       "1  https://www.kompas.com/sports/read/2025/05/28/...  \n",
       "2  https://bola.okezone.com/read/2025/05/28/51/31...  \n",
       "3  https://www.cnnindonesia.com/olahraga/20250528...  \n",
       "4  https://www.suarakalbar.co.id/2025/05/asean-al...  "
      ]
     },
     "execution_count": 11,
     "metadata": {},
     "output_type": "execute_result"
    }
   ],
   "source": [
    "df = pd.DataFrame(articles)\n",
    "df.head()"
   ]
  },
  {
   "cell_type": "markdown",
   "id": "fc3fe5b4",
   "metadata": {},
   "source": [
    "## 💬 Scrap Comment Function from kompas"
   ]
  },
  {
   "cell_type": "code",
   "execution_count": 33,
   "id": "8b449a56",
   "metadata": {},
   "outputs": [],
   "source": [
    "import requests\n",
    "from bs4 import BeautifulSoup\n",
    "\n",
    "def extract_comments_kompas(url):\n",
    "    response = requests.get(url)\n",
    "    soup = BeautifulSoup(response.content, 'html.parser')\n",
    "    comments_data = []\n",
    "\n",
    "    # Komentar utama\n",
    "    for item in soup.select('div.commentItem[id^=\"commentItem-\"]'):\n",
    "        user_tag = item.select_one('div.commentUser')\n",
    "        text_tag = item.select_one('div.commentContent-inner')\n",
    "\n",
    "        if user_tag and text_tag:\n",
    "            comments_data.append({\n",
    "                'user': user_tag.get_text(strip=True),\n",
    "                'komentar': text_tag.get_text(strip=True),\n",
    "                'tipe': 'utama',\n",
    "                'sumber': 'kompas'\n",
    "            })\n",
    "\n",
    "        # Komentar balasan (jika ada)\n",
    "        reply_block = item.select_one('div[id^=\"commentReplyList-\"]')\n",
    "        if reply_block:\n",
    "            for reply in reply_block.select('div.commentItem[id^=\"commentReplyItem-\"]'):\n",
    "                reply_user = reply.select_one('div.commentUser')\n",
    "                reply_text = reply.select_one('div.commentContent-inner')\n",
    "\n",
    "                if reply_user and reply_text:\n",
    "                    comments_data.append({\n",
    "                        'user': reply_user.get_text(strip=True),\n",
    "                        'komentar': reply_text.get_text(strip=True),\n",
    "                        'tipe': 'balasan',\n",
    "                        'sumber': 'kompas'\n",
    "                    })\n",
    "\n",
    "    return comments_data"
   ]
  },
  {
   "cell_type": "markdown",
   "id": "328f79cc",
   "metadata": {},
   "source": [
    "## 💬 Scrap Comment Function from detik"
   ]
  },
  {
   "cell_type": "code",
   "execution_count": 34,
   "id": "b2e77038",
   "metadata": {},
   "outputs": [],
   "source": [
    "def extract_comments_detik(url):\n",
    "    response = requests.get(url)\n",
    "    soup = BeautifulSoup(response.content, 'html.parser')\n",
    "    comments_data = []\n",
    "\n",
    "    for item in soup.select('div.komentar-iframe-min-list-content__item'):\n",
    "        user_tag = item.select_one('div.komentar-iframe-min-media__user')\n",
    "        text_tag = item.select_one('div.komentar-iframe-min-media__desc')\n",
    "\n",
    "        if user_tag and text_tag:\n",
    "            comments_data.append({\n",
    "                'user': user_tag.get_text(strip=True),\n",
    "                'komentar': text_tag.get_text(strip=True),\n",
    "                'tipe': 'utama',  # iframe tidak menampilkan reply secara eksplisit\n",
    "                'sumber': 'detik'\n",
    "            })\n",
    "\n",
    "    return comments_data"
   ]
  },
  {
   "cell_type": "markdown",
   "id": "3ea681e8",
   "metadata": {},
   "source": [
    "## 📅 Merging into Dataframe"
   ]
  },
  {
   "cell_type": "code",
   "execution_count": 35,
   "id": "faef8d9b",
   "metadata": {},
   "outputs": [
    {
     "data": {
      "application/vnd.microsoft.datawrangler.viewer.v0+json": {
       "columns": [
        {
         "name": "index",
         "rawType": "int64",
         "type": "integer"
        }
       ],
       "ref": "0f7c9530-5d16-4693-bc61-2b1d5b8e1737",
       "rows": [],
       "shape": {
        "columns": 0,
        "rows": 0
       }
      },
      "text/html": [
       "<div>\n",
       "<style scoped>\n",
       "    .dataframe tbody tr th:only-of-type {\n",
       "        vertical-align: middle;\n",
       "    }\n",
       "\n",
       "    .dataframe tbody tr th {\n",
       "        vertical-align: top;\n",
       "    }\n",
       "\n",
       "    .dataframe thead th {\n",
       "        text-align: right;\n",
       "    }\n",
       "</style>\n",
       "<table border=\"1\" class=\"dataframe\">\n",
       "  <thead>\n",
       "    <tr style=\"text-align: right;\">\n",
       "      <th></th>\n",
       "    </tr>\n",
       "  </thead>\n",
       "  <tbody>\n",
       "  </tbody>\n",
       "</table>\n",
       "</div>"
      ],
      "text/plain": [
       "Empty DataFrame\n",
       "Columns: []\n",
       "Index: []"
      ]
     },
     "execution_count": 35,
     "metadata": {},
     "output_type": "execute_result"
    }
   ],
   "source": [
    "comm_urls = {\n",
    "    'kompas': 'https://www.kompas.com/sports/read/2025/05/28/22233688/skor-asean-all-stars-vs-man-united-1-0-mu-menanggung-malu-di-bukit-jalil',\n",
    "    'detik': 'https://sport.detik.com/sepakbola/liga-inggris/d-7938117/asean-all-stars-vs-mu-setan-merah-kalah-0-1'\n",
    "}\n",
    "\n",
    "kompas_comments = extract_comments_kompas(comm_urls['kompas'])\n",
    "detik_comments = extract_comments_detik(comm_urls['detik'])\n",
    "\n",
    "import pandas as pd\n",
    "comment_df = pd.DataFrame(kompas_comments + detik_comments)\n",
    "comment_df.head()"
   ]
  }
 ],
 "metadata": {
  "kernelspec": {
   "display_name": "base",
   "language": "python",
   "name": "python3"
  },
  "language_info": {
   "codemirror_mode": {
    "name": "ipython",
    "version": 3
   },
   "file_extension": ".py",
   "mimetype": "text/x-python",
   "name": "python",
   "nbconvert_exporter": "python",
   "pygments_lexer": "ipython3",
   "version": "3.11.5"
  }
 },
 "nbformat": 4,
 "nbformat_minor": 5
}
