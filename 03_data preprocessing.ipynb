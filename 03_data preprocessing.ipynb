{
 "cells": [
  {
   "cell_type": "code",
   "execution_count": 27,
   "id": "19df62f7",
   "metadata": {},
   "outputs": [],
   "source": [
    "#pip install langdetect\n",
    "#pip install emoji\n",
    "#pip install pandas"
   ]
  },
  {
   "cell_type": "code",
   "execution_count": 28,
   "id": "49dddd29",
   "metadata": {},
   "outputs": [],
   "source": [
    "import pandas as pd\n",
    "import re\n",
    "import emoji\n",
    "from langdetect import detect, DetectorFactory\n",
    "\n",
    "DetectorFactory.seed = 0"
   ]
  },
  {
   "cell_type": "code",
   "execution_count": 29,
   "id": "a6f37765",
   "metadata": {},
   "outputs": [],
   "source": [
    "# Remove emoji\n",
    "def remove_emoji(text):\n",
    "    return emoji.replace_emoji(str(text), replace='')\n",
    "\n",
    "# Remove non-ascii (tambahan untuk clean karakter aneh)\n",
    "def remove_non_ascii(text):\n",
    "    return ''.join(c for c in text if ord(c) < 128 and c.isprintable())\n",
    "\n",
    "# Remove non-alphabetic character\n",
    "def remove_non_alpha(text):\n",
    "    return re.sub(r'[^a-zA-Z\\s]', '', text)\n",
    "\n",
    "# Full cleaning function\n",
    "def clean_text(text):\n",
    "    text = str(text).lower()\n",
    "    text = remove_emoji(text)\n",
    "    text = remove_non_ascii(text)\n",
    "    text = remove_non_alpha(text)\n",
    "    text = re.sub(r'\\s+', ' ', text).strip()\n",
    "    return text\n",
    "\n",
    "# Filter bahasa Indonesia\n",
    "def is_indonesian(text):\n",
    "    try:\n",
    "        return detect(text) == 'id'\n",
    "    except:\n",
    "        return False\n",
    "\n",
    "# Full cleaning pipeline for dataframe\n",
    "def clean_dataframe(df, text_column):\n",
    "    df[text_column] = df[text_column].astype(str)\n",
    "    df['clean_text'] = df[text_column].apply(clean_text)\n",
    "    df = df[df['clean_text'].apply(is_indonesian)]\n",
    "    df = df.reset_index(drop=True)\n",
    "    return df"
   ]
  },
  {
   "cell_type": "code",
   "execution_count": 30,
   "id": "6d5467f0",
   "metadata": {},
   "outputs": [],
   "source": [
    "# PARSING TIKTOK (SEMICOLON PARSING)\n",
    "import csv\n",
    "\n",
    "def parse_tiktok_file(file_path):\n",
    "    df = pd.read_csv(file_path, delimiter=';', quoting=csv.QUOTE_NONE, on_bad_lines='skip')\n",
    "    return df"
   ]
  },
  {
   "cell_type": "code",
   "execution_count": 31,
   "id": "e59730a6",
   "metadata": {},
   "outputs": [],
   "source": [
    "# LOAD & PARSE FILE\n",
    "# Raw file paths\n",
    "\n",
    "news_comments_path = '../data/raw_comment_data.csv'\n",
    "news_path = '../data/raw_data.csv'  # <- tidak kita olah sekarang\n",
    "tiktok_path_1 = '../data/tiktok_comments_raw_1.csv'\n",
    "tiktok_path_2 = '../data/tiktok_comments_raw_2.csv'\n",
    "tiktok_path_3 = '../data/tiktok_comments_raw_3.csv'\n",
    "youtube_path = '../data/youtube_comments.csv'"
   ]
  },
  {
   "cell_type": "code",
   "execution_count": 32,
   "id": "7948a5aa",
   "metadata": {},
   "outputs": [],
   "source": [
    "# 1️⃣ Parse News Comments\n",
    "df_news_comments = pd.read_csv(news_comments_path, encoding='utf-8')\n",
    "df_news_comments_clean = clean_dataframe(df_news_comments, text_column='komentar')"
   ]
  },
  {
   "cell_type": "code",
   "execution_count": 33,
   "id": "28f0da8d",
   "metadata": {},
   "outputs": [],
   "source": [
    "# 2️⃣ Parse YouTube\n",
    "df_youtube = pd.read_csv(youtube_path, encoding='utf-8')\n",
    "df_youtube_clean = clean_dataframe(df_youtube, text_column='comment')"
   ]
  },
  {
   "cell_type": "code",
   "execution_count": 34,
   "id": "d052ebc2",
   "metadata": {},
   "outputs": [],
   "source": [
    "# 3️⃣ Parse TikTok files\n",
    "tiktok_1 = parse_tiktok_file(tiktok_path_1)\n",
    "tiktok_2 = parse_tiktok_file(tiktok_path_2)\n",
    "tiktok_3 = parse_tiktok_file(tiktok_path_3)\n",
    "\n",
    "# Clean TikTok3 dataframes\n",
    "tiktok_3 = tiktok_3.dropna(subset=['Comment'])"
   ]
  },
  {
   "cell_type": "code",
   "execution_count": 35,
   "id": "c97cfc88",
   "metadata": {},
   "outputs": [],
   "source": [
    "# Combine TikTok dataframes\n",
    "tiktok_all = pd.concat([tiktok_1, tiktok_2, tiktok_3], ignore_index=True)\n",
    "df_tiktok_clean = clean_dataframe(tiktok_all, text_column='Comment')"
   ]
  },
  {
   "cell_type": "code",
   "execution_count": 36,
   "id": "0ee407f0",
   "metadata": {},
   "outputs": [
    {
     "name": "stdout",
     "output_type": "stream",
     "text": [
      "✅ All datas already parsed and cleaned!\n"
     ]
    }
   ],
   "source": [
    "# SAVE OUTPUT\n",
    "\n",
    "\n",
    "df_news_comments_clean.to_csv('../data/news_comments_clean.csv', index=False)\n",
    "df_youtube_clean.to_csv('../data/youtube_comments_clean.csv', index=False)\n",
    "df_tiktok_clean.to_csv('../data/tiktok_comments_clean.csv', index=False)\n",
    "\n",
    "\n",
    "print(\"✅ All datas already parsed and cleaned!\")"
   ]
  },
  {
   "cell_type": "code",
   "execution_count": 37,
   "id": "b10a8659",
   "metadata": {},
   "outputs": [],
   "source": [
    "# pip install pandas emoji langdetect"
   ]
  }
 ],
 "metadata": {
  "kernelspec": {
   "display_name": "Python 3",
   "language": "python",
   "name": "python3"
  },
  "language_info": {
   "codemirror_mode": {
    "name": "ipython",
    "version": 3
   },
   "file_extension": ".py",
   "mimetype": "text/x-python",
   "name": "python",
   "nbconvert_exporter": "python",
   "pygments_lexer": "ipython3",
   "version": "3.13.4"
  }
 },
 "nbformat": 4,
 "nbformat_minor": 5
}
